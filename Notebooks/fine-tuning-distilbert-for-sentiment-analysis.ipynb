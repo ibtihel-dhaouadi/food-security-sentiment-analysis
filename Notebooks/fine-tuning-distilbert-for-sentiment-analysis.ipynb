{
 "cells": [
  {
   "cell_type": "markdown",
   "id": "f480c62d",
   "metadata": {
    "papermill": {
     "duration": 0.014129,
     "end_time": "2025-06-23T19:32:22.142852",
     "exception": false,
     "start_time": "2025-06-23T19:32:22.128723",
     "status": "completed"
    },
    "tags": []
   },
   "source": [
    "# <center> **DistilBert-Based Sentiment Classification for Food Insecurity Tweets**</center>\n",
    "<center>(DistilBert-based Sentiment Classification & Model Evaluation)</center>"
   ]
  },
  {
   "cell_type": "markdown",
   "id": "c4d2f580",
   "metadata": {
    "papermill": {
     "duration": 0.007343,
     "end_time": "2025-06-23T19:32:22.158038",
     "exception": false,
     "start_time": "2025-06-23T19:32:22.150695",
     "status": "completed"
    },
    "tags": []
   },
   "source": [
    "### 📌 Notebook Overview\n",
    "This notebook builds upon the initial data cleaning and exploratory analysis work by training a powerful DistilBert model to classify tweets related to food security into multiple sentiment categories. We will carefully prepare the data, handle imbalanced classes, fine-tune a pretrained DistilBert, and evaluate the model’s performance using robust metrics.\n",
    "\n",
    "**🎯 Goal ?** Fine-tune a DistilBert model on our cleaned and translated tweet dataset to accurately classify each tweet \n",
    "\n",
    "🔗 [Check out here: Data Cleaning & NLP Pipeline for Social Media Opinions on Food Security in Malaysia](https://www.kaggle.com/code/dhaouadiibtihel98/clean-data-sentiment-analysis-lda-topic-modeling/notebook#%F0%9F%94%8D-Step-3:-Load-and-Explore-the-Dataset)\n",
    "\n",
    "### Key Steps & Workflow:\n",
    "1. **🧹 Data Preparation & Encoding**\n",
    "   * Encoding classes into numerical labels\n",
    "   * Tokenization using DistilBertTokenizer from HuggingFace\n",
    "   * Handling class imbalance using Weighted loss functions\n",
    "   * Split the dataset into training, validation, and test sets\n",
    "2. **🏗️ Building and Fine-tuning the DistilBert Classifier**\n",
    "   * Load a pre-trained DistilBert model (distilbert-base-uncased)\n",
    "   * Add a custom classification head for 4 sentiment classes\n",
    "   * Use AdamW optimizer and learning rate scheduler for stable training\n",
    "   * Fine-tune using our labeled tweets\n",
    "3. **🔁 Training and Evaluation Loops**\n",
    "   * Custom train_epoch() and eval_model() functions with metric tracking\n",
    "   * Evaluation using accuracy, precision, recall, and F1-score (weighted to account for imbalance)\n",
    "   * Integrated learning rate scheduling & optimizer tuning\n",
    "4. **📈 Performance Visualization**\n",
    "   * Plot detailed training and validation curves\n",
    "   * Validating model performance to avoid overfitting\n",
    "   * Visualize performance using Confusion Matrix and ROC Curve."
   ]
  },
  {
   "cell_type": "markdown",
   "id": "97e24959",
   "metadata": {
    "papermill": {
     "duration": 0.006923,
     "end_time": "2025-06-23T19:32:22.172331",
     "exception": false,
     "start_time": "2025-06-23T19:32:22.165408",
     "status": "completed"
    },
    "tags": []
   },
   "source": [
    "## **📚 Import Necessary Libraries**"
   ]
  },
  {
   "cell_type": "code",
   "execution_count": 1,
   "id": "5b0493e4",
   "metadata": {
    "execution": {
     "iopub.execute_input": "2025-06-23T19:32:22.189288Z",
     "iopub.status.busy": "2025-06-23T19:32:22.188338Z",
     "iopub.status.idle": "2025-06-23T19:32:55.233249Z",
     "shell.execute_reply": "2025-06-23T19:32:55.232453Z"
    },
    "papermill": {
     "duration": 33.055197,
     "end_time": "2025-06-23T19:32:55.234769",
     "exception": false,
     "start_time": "2025-06-23T19:32:22.179572",
     "status": "completed"
    },
    "tags": []
   },
   "outputs": [
    {
     "name": "stderr",
     "output_type": "stream",
     "text": [
      "2025-06-23 19:32:43.002350: E external/local_xla/xla/stream_executor/cuda/cuda_fft.cc:477] Unable to register cuFFT factory: Attempting to register factory for plugin cuFFT when one has already been registered\n",
      "WARNING: All log messages before absl::InitializeLog() is called are written to STDERR\n",
      "E0000 00:00:1750707163.238341      19 cuda_dnn.cc:8310] Unable to register cuDNN factory: Attempting to register factory for plugin cuDNN when one has already been registered\n",
      "E0000 00:00:1750707163.305870      19 cuda_blas.cc:1418] Unable to register cuBLAS factory: Attempting to register factory for plugin cuBLAS when one has already been registered\n"
     ]
    }
   ],
   "source": [
    "import pandas as pd\n",
    "import numpy as np\n",
    "import matplotlib.pyplot as plt\n",
    "import seaborn as sns\n",
    "from tqdm import tqdm\n",
    "import joblib\n",
    "\n",
    "from sklearn.preprocessing import LabelEncoder, label_binarize\n",
    "from sklearn.model_selection import train_test_split\n",
    "from sklearn.utils.class_weight import compute_class_weight\n",
    "from sklearn.metrics import accuracy_score, precision_recall_fscore_support,classification_report, confusion_matrix\n",
    "from sklearn.metrics import roc_curve, roc_auc_score, auc\n",
    "\n",
    "from transformers import DistilBertConfig, DistilBertTokenizer, DistilBertForSequenceClassification, get_linear_schedule_with_warmup\n",
    "from torch.optim import AdamW\n",
    "\n",
    "import torch\n",
    "from torch.utils.data import Dataset, DataLoader\n",
    "from torch.utils.data import TensorDataset, DataLoader, RandomSampler, SequentialSampler\n",
    "from torch.nn import CrossEntropyLoss\n",
    "\n",
    "from collections import Counter"
   ]
  },
  {
   "cell_type": "code",
   "execution_count": 2,
   "id": "394c4ad2",
   "metadata": {
    "execution": {
     "iopub.execute_input": "2025-06-23T19:32:55.251903Z",
     "iopub.status.busy": "2025-06-23T19:32:55.251017Z",
     "iopub.status.idle": "2025-06-23T19:32:55.255501Z",
     "shell.execute_reply": "2025-06-23T19:32:55.254879Z"
    },
    "papermill": {
     "duration": 0.013588,
     "end_time": "2025-06-23T19:32:55.256487",
     "exception": false,
     "start_time": "2025-06-23T19:32:55.242899",
     "status": "completed"
    },
    "tags": []
   },
   "outputs": [
    {
     "name": "stdout",
     "output_type": "stream",
     "text": [
      "Using device: cuda\n"
     ]
    }
   ],
   "source": [
    "# Check device\n",
    "device = torch.device('cuda') if torch.cuda.is_available() else torch.device('cpu')\n",
    "print(\"Using device:\", device)"
   ]
  },
  {
   "cell_type": "markdown",
   "id": "e0abc9a9",
   "metadata": {
    "papermill": {
     "duration": 0.007281,
     "end_time": "2025-06-23T19:32:55.270882",
     "exception": false,
     "start_time": "2025-06-23T19:32:55.263601",
     "status": "completed"
    },
    "tags": []
   },
   "source": [
    "## **🧹 Data Preparation & Encoding**"
   ]
  },
  {
   "cell_type": "markdown",
   "id": "ab4cff92",
   "metadata": {
    "papermill": {
     "duration": 0.006832,
     "end_time": "2025-06-23T19:32:55.285034",
     "exception": false,
     "start_time": "2025-06-23T19:32:55.278202",
     "status": "completed"
    },
    "tags": []
   },
   "source": [
    "### 🔍 Load Dataset"
   ]
  },
  {
   "cell_type": "code",
   "execution_count": 3,
   "id": "8020ce53",
   "metadata": {
    "execution": {
     "iopub.execute_input": "2025-06-23T19:32:55.300376Z",
     "iopub.status.busy": "2025-06-23T19:32:55.300130Z",
     "iopub.status.idle": "2025-06-23T19:32:55.802856Z",
     "shell.execute_reply": "2025-06-23T19:32:55.801888Z"
    },
    "papermill": {
     "duration": 0.511892,
     "end_time": "2025-06-23T19:32:55.804122",
     "exception": false,
     "start_time": "2025-06-23T19:32:55.292230",
     "status": "completed"
    },
    "tags": []
   },
   "outputs": [
    {
     "name": "stdout",
     "output_type": "stream",
     "text": [
      "<class 'pandas.core.frame.DataFrame'>\n",
      "Index: 30760 entries, 0 to 34102\n",
      "Data columns (total 11 columns):\n",
      " #   Column           Non-Null Count  Dtype  \n",
      "---  ------           --------------  -----  \n",
      " 0   Datetime         30760 non-null  object \n",
      " 1   Username         30760 non-null  object \n",
      " 2   Text             30760 non-null  object \n",
      " 3   Location         30760 non-null  object \n",
      " 4   translated_Text  30760 non-null  object \n",
      " 5   Cleaned_Text     30759 non-null  object \n",
      " 6   sentiment_score  30760 non-null  float64\n",
      " 7   sentiment_label  30760 non-null  object \n",
      " 8   risk_level       30760 non-null  object \n",
      " 9   assigned_topic   30760 non-null  object \n",
      " 10  risk_score       30760 non-null  int64  \n",
      "dtypes: float64(1), int64(1), object(9)\n",
      "memory usage: 2.8+ MB\n"
     ]
    }
   ],
   "source": [
    "path = '/kaggle/input/sentiment-analysis-for-food-insecurity/food_security_processed_data.csv'\n",
    "df = pd.read_csv(path)\n",
    "df = df.drop_duplicates(['Cleaned_Text'] , keep='first')\n",
    "df.info()"
   ]
  },
  {
   "cell_type": "code",
   "execution_count": 4,
   "id": "a25012d3",
   "metadata": {
    "execution": {
     "iopub.execute_input": "2025-06-23T19:32:55.819894Z",
     "iopub.status.busy": "2025-06-23T19:32:55.819640Z",
     "iopub.status.idle": "2025-06-23T19:32:55.857939Z",
     "shell.execute_reply": "2025-06-23T19:32:55.857067Z"
    },
    "papermill": {
     "duration": 0.047531,
     "end_time": "2025-06-23T19:32:55.859317",
     "exception": false,
     "start_time": "2025-06-23T19:32:55.811786",
     "status": "completed"
    },
    "tags": []
   },
   "outputs": [],
   "source": [
    "#Calculate the length of each Cleaned_Text\n",
    "df['text_length'] = df['Cleaned_Text'].fillna('').apply(lambda x: len(x.strip().split()))\n",
    "\n",
    "# Filter the DataFrame to keep only tweets with text length ≤ 20 characters\n",
    "df_filtered = df[df['text_length'] <= 20]"
   ]
  },
  {
   "cell_type": "code",
   "execution_count": 5,
   "id": "71afd979",
   "metadata": {
    "execution": {
     "iopub.execute_input": "2025-06-23T19:32:55.875272Z",
     "iopub.status.busy": "2025-06-23T19:32:55.874852Z",
     "iopub.status.idle": "2025-06-23T19:32:56.244933Z",
     "shell.execute_reply": "2025-06-23T19:32:56.244181Z"
    },
    "papermill": {
     "duration": 0.379214,
     "end_time": "2025-06-23T19:32:56.246095",
     "exception": false,
     "start_time": "2025-06-23T19:32:55.866881",
     "status": "completed"
    },
    "tags": []
   },
   "outputs": [
    {
     "data": {
      "image/png": "[encoded data removed]",
      "text/plain": [
       "<Figure size 800x500 with 1 Axes>"
      ]
     },
     "metadata": {},
     "output_type": "display_data"
    }
   ],
   "source": [
    "# Count how many tweets have each specific text length (0 to 20 characters)\n",
    "length_counts = df_filtered['text_length'].value_counts().sort_index()\n",
    "\n",
    "# Ensure all lengths from 0 to 20 are present (even if count = 0)\n",
    "all_lengths = list(range(0, 21))\n",
    "counts = [length_counts.get(i, 0) for i in all_lengths]\n",
    "\n",
    "# Plot using bar chart instead of hist for better control over labels\n",
    "plt.figure(figsize=(8, 5))\n",
    "bars = plt.bar(all_lengths, counts, color='skyblue', edgecolor='black')\n",
    "\n",
    "# Add number of tweets on top of each bar\n",
    "for bar in bars:\n",
    "    height = bar.get_height()\n",
    "    plt.text(bar.get_x() + bar.get_width() / 2, height + 5, str(height),\n",
    "             ha='center', va='bottom', fontsize=9)\n",
    "\n",
    "# Set plot details\n",
    "plt.title(\"Number of Tweets by Text Length (0–20 characters)\", fontsize=14)\n",
    "plt.xlabel(\"Text Length (characters)\", fontsize=12)\n",
    "plt.ylabel(\"Number of Tweets\", fontsize=12)\n",
    "plt.xticks(all_lengths)\n",
    "plt.grid(axis='y', linestyle='--', alpha=0.7)\n",
    "plt.tight_layout()\n",
    "plt.show()"
   ]
  },
  {
   "cell_type": "code",
   "execution_count": 6,
   "id": "8d1ef2a0",
   "metadata": {
    "execution": {
     "iopub.execute_input": "2025-06-23T19:32:56.264178Z",
     "iopub.status.busy": "2025-06-23T19:32:56.263740Z",
     "iopub.status.idle": "2025-06-23T19:32:56.275065Z",
     "shell.execute_reply": "2025-06-23T19:32:56.274326Z"
    },
    "papermill": {
     "duration": 0.021412,
     "end_time": "2025-06-23T19:32:56.276211",
     "exception": false,
     "start_time": "2025-06-23T19:32:56.254799",
     "status": "completed"
    },
    "tags": []
   },
   "outputs": [],
   "source": [
    "df = df[df['text_length'] > 1]"
   ]
  },
  {
   "cell_type": "code",
   "execution_count": 7,
   "id": "cf3fa672",
   "metadata": {
    "execution": {
     "iopub.execute_input": "2025-06-23T19:32:56.293133Z",
     "iopub.status.busy": "2025-06-23T19:32:56.292928Z",
     "iopub.status.idle": "2025-06-23T19:32:56.313121Z",
     "shell.execute_reply": "2025-06-23T19:32:56.312390Z"
    },
    "papermill": {
     "duration": 0.030003,
     "end_time": "2025-06-23T19:32:56.314350",
     "exception": false,
     "start_time": "2025-06-23T19:32:56.284347",
     "status": "completed"
    },
    "tags": []
   },
   "outputs": [
    {
     "data": {
      "text/html": [
       "<div>\n",
       "<style scoped>\n",
       "    .dataframe tbody tr th:only-of-type {\n",
       "        vertical-align: middle;\n",
       "    }\n",
       "\n",
       "    .dataframe tbody tr th {\n",
       "        vertical-align: top;\n",
       "    }\n",
       "\n",
       "    .dataframe thead th {\n",
       "        text-align: right;\n",
       "    }\n",
       "</style>\n",
       "<table border=\"1\" class=\"dataframe\">\n",
       "  <thead>\n",
       "    <tr style=\"text-align: right;\">\n",
       "      <th></th>\n",
       "      <th>Datetime</th>\n",
       "      <th>Username</th>\n",
       "      <th>Text</th>\n",
       "      <th>Location</th>\n",
       "      <th>translated_Text</th>\n",
       "      <th>Cleaned_Text</th>\n",
       "      <th>sentiment_score</th>\n",
       "      <th>sentiment_label</th>\n",
       "      <th>risk_level</th>\n",
       "      <th>assigned_topic</th>\n",
       "      <th>risk_score</th>\n",
       "      <th>text_length</th>\n",
       "    </tr>\n",
       "  </thead>\n",
       "  <tbody>\n",
       "    <tr>\n",
       "      <th>0</th>\n",
       "      <td>2022-02-01 00:18:19</td>\n",
       "      <td>HZMLRN</td>\n",
       "      <td>I is lapar 🥲 (@ R&amp;amp;R Perasing in Perasing, ...</td>\n",
       "      <td>Johor Bahru</td>\n",
       "      <td>I is hungry 🥲 (@ r &amp; r perception in action, t...</td>\n",
       "      <td>hungry r perception action terengganu</td>\n",
       "      <td>0.0000</td>\n",
       "      <td>negative</td>\n",
       "      <td>Medium</td>\n",
       "      <td>Food Insecurity</td>\n",
       "      <td>1</td>\n",
       "      <td>5</td>\n",
       "    </tr>\n",
       "    <tr>\n",
       "      <th>1</th>\n",
       "      <td>2022-02-01 00:20:14</td>\n",
       "      <td>evaniaprilRS</td>\n",
       "      <td>Suatu pagi-pagi buta di Siantar,\\n\\n🗣: aku lap...</td>\n",
       "      <td>Unknown</td>\n",
       "      <td>One morning blind in Siantar,\\n\\n🗣: I'm hungry...</td>\n",
       "      <td>one morning blind siantar hungry want breakfas...</td>\n",
       "      <td>-0.3400</td>\n",
       "      <td>negative</td>\n",
       "      <td>Medium</td>\n",
       "      <td>Fasting and Food Access Challenges</td>\n",
       "      <td>1</td>\n",
       "      <td>10</td>\n",
       "    </tr>\n",
       "    <tr>\n",
       "      <th>2</th>\n",
       "      <td>2022-02-01 01:04:00</td>\n",
       "      <td>fahimzahar</td>\n",
       "      <td>Lapar... Angin dah .. sini pun jadi... (@ Tama...</td>\n",
       "      <td>Malaysia</td>\n",
       "      <td>Hungry ... the wind is already ...</td>\n",
       "      <td>hungry wind already</td>\n",
       "      <td>0.0000</td>\n",
       "      <td>negative</td>\n",
       "      <td>Medium</td>\n",
       "      <td>Daily Hunger Struggles</td>\n",
       "      <td>1</td>\n",
       "      <td>3</td>\n",
       "    </tr>\n",
       "    <tr>\n",
       "      <th>3</th>\n",
       "      <td>2022-02-01 01:06:14</td>\n",
       "      <td>azlanowen</td>\n",
       "      <td>Dari jam 7 pagi sampe skrng jam 9 lewat msh mi...</td>\n",
       "      <td>Kalimantan Timur, Indonesia</td>\n",
       "      <td>From 7 o'clock in the morning until now at 9 o...</td>\n",
       "      <td>clock morning clock thought breakfast breakfas...</td>\n",
       "      <td>0.0000</td>\n",
       "      <td>negative</td>\n",
       "      <td>Medium</td>\n",
       "      <td>Fasting and Food Access Challenges</td>\n",
       "      <td>1</td>\n",
       "      <td>14</td>\n",
       "    </tr>\n",
       "    <tr>\n",
       "      <th>4</th>\n",
       "      <td>2022-02-01 01:20:36</td>\n",
       "      <td>RazakZaha</td>\n",
       "      <td>Slowly rebuild pace.\\n\\nI got problem with kne...</td>\n",
       "      <td>Kuala Lumpur</td>\n",
       "      <td>Slowly rebuild pace.\\n\\nI got problem with kne...</td>\n",
       "      <td>slowly rebuild pace got problem knee injury su...</td>\n",
       "      <td>-0.8481</td>\n",
       "      <td>very negative</td>\n",
       "      <td>High</td>\n",
       "      <td>Daily Hunger Struggles</td>\n",
       "      <td>2</td>\n",
       "      <td>11</td>\n",
       "    </tr>\n",
       "  </tbody>\n",
       "</table>\n",
       "</div>"
      ],
      "text/plain": [
       "              Datetime      Username  \\\n",
       "0  2022-02-01 00:18:19        HZMLRN   \n",
       "1  2022-02-01 00:20:14  evaniaprilRS   \n",
       "2  2022-02-01 01:04:00    fahimzahar   \n",
       "3  2022-02-01 01:06:14     azlanowen   \n",
       "4  2022-02-01 01:20:36     RazakZaha   \n",
       "\n",
       "                                                Text  \\\n",
       "0  I is lapar 🥲 (@ R&amp;R Perasing in Perasing, ...   \n",
       "1  Suatu pagi-pagi buta di Siantar,\\n\\n🗣: aku lap...   \n",
       "2  Lapar... Angin dah .. sini pun jadi... (@ Tama...   \n",
       "3  Dari jam 7 pagi sampe skrng jam 9 lewat msh mi...   \n",
       "4  Slowly rebuild pace.\\n\\nI got problem with kne...   \n",
       "\n",
       "                      Location  \\\n",
       "0                  Johor Bahru   \n",
       "1                      Unknown   \n",
       "2                     Malaysia   \n",
       "3  Kalimantan Timur, Indonesia   \n",
       "4                 Kuala Lumpur   \n",
       "\n",
       "                                     translated_Text  \\\n",
       "0  I is hungry 🥲 (@ r & r perception in action, t...   \n",
       "1  One morning blind in Siantar,\\n\\n🗣: I'm hungry...   \n",
       "2                 Hungry ... the wind is already ...   \n",
       "3  From 7 o'clock in the morning until now at 9 o...   \n",
       "4  Slowly rebuild pace.\\n\\nI got problem with kne...   \n",
       "\n",
       "                                        Cleaned_Text  sentiment_score  \\\n",
       "0              hungry r perception action terengganu           0.0000   \n",
       "1  one morning blind siantar hungry want breakfas...          -0.3400   \n",
       "2                                hungry wind already           0.0000   \n",
       "3  clock morning clock thought breakfast breakfas...           0.0000   \n",
       "4  slowly rebuild pace got problem knee injury su...          -0.8481   \n",
       "\n",
       "  sentiment_label risk_level                      assigned_topic  risk_score  \\\n",
       "0        negative     Medium                     Food Insecurity           1   \n",
       "1        negative     Medium  Fasting and Food Access Challenges           1   \n",
       "2        negative     Medium              Daily Hunger Struggles           1   \n",
       "3        negative     Medium  Fasting and Food Access Challenges           1   \n",
       "4   very negative       High              Daily Hunger Struggles           2   \n",
       "\n",
       "   text_length  \n",
       "0            5  \n",
       "1           10  \n",
       "2            3  \n",
       "3           14  \n",
       "4           11  "
      ]
     },
     "execution_count": 7,
     "metadata": {},
     "output_type": "execute_result"
    }
   ],
   "source": [
    "df.head(5)"
   ]
  },
  {
   "cell_type": "markdown",
   "id": "aa9f7d95",
   "metadata": {
    "papermill": {
     "duration": 0.008078,
     "end_time": "2025-06-23T19:32:56.331179",
     "exception": false,
     "start_time": "2025-06-23T19:32:56.323101",
     "status": "completed"
    },
    "tags": []
   },
   "source": [
    "### 🔢 Encode Classes into Numerical Labels"
   ]
  },
  {
   "cell_type": "markdown",
   "id": "7b99de28",
   "metadata": {
    "papermill": {
     "duration": 0.008168,
     "end_time": "2025-06-23T19:32:56.347982",
     "exception": false,
     "start_time": "2025-06-23T19:32:56.339814",
     "status": "completed"
    },
    "tags": []
   },
   "source": [
    "Before training, we need to convert the categorical **sentiment_label** into **numerical** form using **label encoding**."
   ]
  },
  {
   "cell_type": "code",
   "execution_count": 8,
   "id": "3a1bbbc5",
   "metadata": {
    "execution": {
     "iopub.execute_input": "2025-06-23T19:32:56.365698Z",
     "iopub.status.busy": "2025-06-23T19:32:56.365140Z",
     "iopub.status.idle": "2025-06-23T19:32:56.373553Z",
     "shell.execute_reply": "2025-06-23T19:32:56.373034Z"
    },
    "papermill": {
     "duration": 0.01843,
     "end_time": "2025-06-23T19:32:56.374681",
     "exception": false,
     "start_time": "2025-06-23T19:32:56.356251",
     "status": "completed"
    },
    "tags": []
   },
   "outputs": [],
   "source": [
    "# Map original sentiment labels to binary classes\n",
    "df['binary_sentiment'] = df['sentiment_label'].replace({\n",
    "    'very negative': 'negative',\n",
    "    'very positive': 'positive'\n",
    "})"
   ]
  },
  {
   "cell_type": "code",
   "execution_count": 9,
   "id": "8624fa14",
   "metadata": {
    "execution": {
     "iopub.execute_input": "2025-06-23T19:32:56.392963Z",
     "iopub.status.busy": "2025-06-23T19:32:56.392483Z",
     "iopub.status.idle": "2025-06-23T19:32:56.402328Z",
     "shell.execute_reply": "2025-06-23T19:32:56.401537Z"
    },
    "papermill": {
     "duration": 0.020012,
     "end_time": "2025-06-23T19:32:56.403401",
     "exception": false,
     "start_time": "2025-06-23T19:32:56.383389",
     "status": "completed"
    },
    "tags": []
   },
   "outputs": [
    {
     "name": "stdout",
     "output_type": "stream",
     "text": [
      "Sentiment classes: {'negative': 0, 'positive': 1}\n"
     ]
    }
   ],
   "source": [
    "# Encode the sentiment labels into numerical format\n",
    "label_encoder = LabelEncoder()\n",
    "df['label_encoded'] = label_encoder.fit_transform(df['binary_sentiment'])\n",
    "class_mapping = dict(zip(label_encoder.classes_, label_encoder.transform(label_encoder.classes_)))\n",
    "print(\"Sentiment classes:\", class_mapping)"
   ]
  },
  {
   "cell_type": "code",
   "execution_count": 10,
   "id": "2062a263",
   "metadata": {
    "execution": {
     "iopub.execute_input": "2025-06-23T19:32:56.474026Z",
     "iopub.status.busy": "2025-06-23T19:32:56.473326Z",
     "iopub.status.idle": "2025-06-23T19:32:56.478895Z",
     "shell.execute_reply": "2025-06-23T19:32:56.478252Z"
    },
    "papermill": {
     "duration": 0.067995,
     "end_time": "2025-06-23T19:32:56.480002",
     "exception": false,
     "start_time": "2025-06-23T19:32:56.412007",
     "status": "completed"
    },
    "tags": []
   },
   "outputs": [
    {
     "name": "stdout",
     "output_type": "stream",
     "text": [
      "label_encoded\n",
      "0    18679\n",
      "1    11880\n",
      "Name: count, dtype: int64\n"
     ]
    }
   ],
   "source": [
    "print(df['label_encoded'].value_counts())"
   ]
  },
  {
   "cell_type": "markdown",
   "id": "77be64e2",
   "metadata": {
    "papermill": {
     "duration": 0.008375,
     "end_time": "2025-06-23T19:32:56.497311",
     "exception": false,
     "start_time": "2025-06-23T19:32:56.488936",
     "status": "completed"
    },
    "tags": []
   },
   "source": [
    "### 🧼 Tokenization and Padding with DistilBert Tokenizer"
   ]
  },
  {
   "cell_type": "code",
   "execution_count": 11,
   "id": "84e5af5b",
   "metadata": {
    "execution": {
     "iopub.execute_input": "2025-06-23T19:32:56.515234Z",
     "iopub.status.busy": "2025-06-23T19:32:56.515003Z",
     "iopub.status.idle": "2025-06-23T19:33:06.715371Z",
     "shell.execute_reply": "2025-06-23T19:33:06.714576Z"
    },
    "papermill": {
     "duration": 10.211224,
     "end_time": "2025-06-23T19:33:06.716940",
     "exception": false,
     "start_time": "2025-06-23T19:32:56.505716",
     "status": "completed"
    },
    "tags": []
   },
   "outputs": [
    {
     "data": {
      "application/vnd.jupyter.widget-view+json": {
       "model_id": "9150a8748e6d4898a04d40768456ea91",
       "version_major": 2,
       "version_minor": 0
      },
      "text/plain": [
       "tokenizer_config.json:   0%|          | 0.00/48.0 [00:00<?, ?B/s]"
      ]
     },
     "metadata": {},
     "output_type": "display_data"
    },
    {
     "data": {
      "application/vnd.jupyter.widget-view+json": {
       "model_id": "3a7a55d227b94b5897b7645ec64aa145",
       "version_major": 2,
       "version_minor": 0
      },
      "text/plain": [
       "vocab.txt:   0%|          | 0.00/232k [00:00<?, ?B/s]"
      ]
     },
     "metadata": {},
     "output_type": "display_data"
    },
    {
     "data": {
      "application/vnd.jupyter.widget-view+json": {
       "model_id": "f1b96241093541abac476cc1680fb375",
       "version_major": 2,
       "version_minor": 0
      },
      "text/plain": [
       "tokenizer.json:   0%|          | 0.00/466k [00:00<?, ?B/s]"
      ]
     },
     "metadata": {},
     "output_type": "display_data"
    },
    {
     "data": {
      "application/vnd.jupyter.widget-view+json": {
       "model_id": "8d71dc6c0f864984b898018addb68963",
       "version_major": 2,
       "version_minor": 0
      },
      "text/plain": [
       "config.json:   0%|          | 0.00/483 [00:00<?, ?B/s]"
      ]
     },
     "metadata": {},
     "output_type": "display_data"
    },
    {
     "name": "stderr",
     "output_type": "stream",
     "text": [
      "100%|██████████| 30559/30559 [00:08<00:00, 3515.24it/s]"
     ]
    },
    {
     "name": "stdout",
     "output_type": "stream",
     "text": [
      "Max length: 81\n"
     ]
    },
    {
     "name": "stderr",
     "output_type": "stream",
     "text": [
      "\n"
     ]
    }
   ],
   "source": [
    "# Load the DistilBert tokenizer\n",
    "tokenizer = DistilBertTokenizer.from_pretrained('distilbert-base-uncased')\n",
    "\n",
    "token_lengths = []\n",
    "for text in tqdm(df['Cleaned_Text'].fillna(\"\")):\n",
    "    tokens = tokenizer.encode(text, add_special_tokens=True)\n",
    "    token_lengths.append(len(tokens))\n",
    "\n",
    "print(\"Max length:\", np.max(token_lengths))"
   ]
  },
  {
   "cell_type": "code",
   "execution_count": 12,
   "id": "77aefefb",
   "metadata": {
    "execution": {
     "iopub.execute_input": "2025-06-23T19:33:06.746110Z",
     "iopub.status.busy": "2025-06-23T19:33:06.745400Z",
     "iopub.status.idle": "2025-06-23T19:33:07.234123Z",
     "shell.execute_reply": "2025-06-23T19:33:07.233350Z"
    },
    "papermill": {
     "duration": 0.503961,
     "end_time": "2025-06-23T19:33:07.235225",
     "exception": false,
     "start_time": "2025-06-23T19:33:06.731264",
     "status": "completed"
    },
    "tags": []
   },
   "outputs": [
    {
     "name": "stderr",
     "output_type": "stream",
     "text": [
      "/usr/local/lib/python3.11/dist-packages/seaborn/_oldcore.py:1119: FutureWarning: use_inf_as_na option is deprecated and will be removed in a future version. Convert inf values to NaN before operating instead.\n",
      "  with pd.option_context('mode.use_inf_as_na', True):\n"
     ]
    },
    {
     "data": {
      "image/png": "[encoded data removed]",
      "text/plain": [
       "<Figure size 1000x600 with 1 Axes>"
      ]
     },
     "metadata": {},
     "output_type": "display_data"
    }
   ],
   "source": [
    "# Plot histogram of token lengths\n",
    "plt.figure(figsize=(10,6))\n",
    "sns.histplot(token_lengths, bins=50, kde=True, color='skyblue')\n",
    "plt.title('Distribution of Tokenized Lengths')\n",
    "plt.xlabel('Token Length')\n",
    "plt.ylabel('Frequency')\n",
    "plt.grid(True)\n",
    "plt.axvline(x=94, color='red', linestyle='--', label='Max Token Length Used = 94')\n",
    "plt.legend()\n",
    "plt.show()"
   ]
  },
  {
   "cell_type": "code",
   "execution_count": 13,
   "id": "6821ca56",
   "metadata": {
    "execution": {
     "iopub.execute_input": "2025-06-23T19:33:07.263799Z",
     "iopub.status.busy": "2025-06-23T19:33:07.263529Z",
     "iopub.status.idle": "2025-06-23T19:33:16.270491Z",
     "shell.execute_reply": "2025-06-23T19:33:16.269819Z"
    },
    "papermill": {
     "duration": 9.022225,
     "end_time": "2025-06-23T19:33:16.271592",
     "exception": false,
     "start_time": "2025-06-23T19:33:07.249367",
     "status": "completed"
    },
    "tags": []
   },
   "outputs": [
    {
     "data": {
      "text/plain": [
       "tensor([[ 101, 7501, 1054,  ...,    0,    0,    0],\n",
       "        [ 101, 2028, 2851,  ...,    0,    0,    0],\n",
       "        [ 101, 7501, 3612,  ...,    0,    0,    0],\n",
       "        ...,\n",
       "        [ 101, 7501, 2292,  ...,    0,    0,    0],\n",
       "        [ 101, 3435, 2075,  ...,    0,    0,    0],\n",
       "        [ 101, 9302, 3433,  ...,    0,    0,    0]])"
      ]
     },
     "execution_count": 13,
     "metadata": {},
     "output_type": "execute_result"
    }
   ],
   "source": [
    "# Tokenize and encode the text\n",
    "encoded_inputs = tokenizer(\n",
    "    df['Cleaned_Text'].fillna(\"\").tolist(),  # Convert Series to list and handle NaNs\n",
    "    padding=True,\n",
    "    truncation=True,\n",
    "    return_tensors='pt',  # Return PyTorch tensors\n",
    "    max_length=94\n",
    ")\n",
    "encoded_inputs['input_ids']"
   ]
  },
  {
   "cell_type": "code",
   "execution_count": 14,
   "id": "9d027382",
   "metadata": {
    "execution": {
     "iopub.execute_input": "2025-06-23T19:33:16.300432Z",
     "iopub.status.busy": "2025-06-23T19:33:16.299959Z",
     "iopub.status.idle": "2025-06-23T19:33:16.305801Z",
     "shell.execute_reply": "2025-06-23T19:33:16.305171Z"
    },
    "papermill": {
     "duration": 0.021231,
     "end_time": "2025-06-23T19:33:16.306885",
     "exception": false,
     "start_time": "2025-06-23T19:33:16.285654",
     "status": "completed"
    },
    "tags": []
   },
   "outputs": [
    {
     "name": "stdout",
     "output_type": "stream",
     "text": [
      "input_ids shape: torch.Size([30559, 81])\n",
      "attention_masks shape: torch.Size([30559, 81])\n",
      "labels shape: torch.Size([30559])\n"
     ]
    }
   ],
   "source": [
    "# Define inputs and targets\n",
    "input_ids = encoded_inputs['input_ids']\n",
    "attention_masks = encoded_inputs['attention_mask']\n",
    "labels = torch.tensor(df['label_encoded'].values)\n",
    "\n",
    "# Vérification des formes\n",
    "print(\"input_ids shape:\", input_ids.shape)\n",
    "print(\"attention_masks shape:\", attention_masks.shape)\n",
    "print(\"labels shape:\", labels.shape)"
   ]
  },
  {
   "cell_type": "markdown",
   "id": "1c3a86e6",
   "metadata": {
    "papermill": {
     "duration": 0.013437,
     "end_time": "2025-06-23T19:33:16.334050",
     "exception": false,
     "start_time": "2025-06-23T19:33:16.320613",
     "status": "completed"
    },
    "tags": []
   },
   "source": [
    "### ⚖️ Handling Class Imbalance "
   ]
  },
  {
   "cell_type": "code",
   "execution_count": 15,
   "id": "3fc5863a",
   "metadata": {
    "execution": {
     "iopub.execute_input": "2025-06-23T19:33:16.362811Z",
     "iopub.status.busy": "2025-06-23T19:33:16.362087Z",
     "iopub.status.idle": "2025-06-23T19:33:16.495523Z",
     "shell.execute_reply": "2025-06-23T19:33:16.494780Z"
    },
    "papermill": {
     "duration": 0.148984,
     "end_time": "2025-06-23T19:33:16.496611",
     "exception": false,
     "start_time": "2025-06-23T19:33:16.347627",
     "status": "completed"
    },
    "tags": []
   },
   "outputs": [
    {
     "data": {
      "image/png": "[encoded data removed]",
      "text/plain": [
       "<Figure size 700x400 with 1 Axes>"
      ]
     },
     "metadata": {},
     "output_type": "display_data"
    }
   ],
   "source": [
    "# Plot class distribution to check for imbalance\n",
    "class_counts = df['binary_sentiment'].value_counts()\n",
    "\n",
    "plt.figure(figsize=(7,4))\n",
    "sns.barplot(x=class_counts.index, y=class_counts.values, palette='viridis')\n",
    "plt.title('Class Distribution for Sentiment Labels')\n",
    "plt.ylabel('Number of Samples')\n",
    "plt.xlabel('Sentiment Class')\n",
    "plt.xticks(rotation=45)\n",
    "for i, count in enumerate(class_counts.values):\n",
    "    plt.text(i, count + max(class_counts.values)*0.01, str(count), ha='center')\n",
    "plt.show()"
   ]
  },
  {
   "cell_type": "markdown",
   "id": "2ced67b7",
   "metadata": {
    "papermill": {
     "duration": 0.014704,
     "end_time": "2025-06-23T19:33:16.526198",
     "exception": false,
     "start_time": "2025-06-23T19:33:16.511494",
     "status": "completed"
    },
    "tags": []
   },
   "source": [
    "📊 To address the issue of class imbalance in our sentiment labels, we compute **class weights** using `sklearn`’s `compute_class_weight` function. This ensures that underrepresented classes are not ignored during training, and the model is penalized more when it misclassifies minority classes. \n",
    "\n",
    "These computed weights will later be incorporated into our loss function (`CrossEntropyLoss`) to guide the model towards fairer predictions across all sentiment categories.\n"
   ]
  },
  {
   "cell_type": "code",
   "execution_count": 16,
   "id": "f0bfacf9",
   "metadata": {
    "execution": {
     "iopub.execute_input": "2025-06-23T19:33:16.556558Z",
     "iopub.status.busy": "2025-06-23T19:33:16.555921Z",
     "iopub.status.idle": "2025-06-23T19:33:16.564103Z",
     "shell.execute_reply": "2025-06-23T19:33:16.563363Z"
    },
    "papermill": {
     "duration": 0.024521,
     "end_time": "2025-06-23T19:33:16.565188",
     "exception": false,
     "start_time": "2025-06-23T19:33:16.540667",
     "status": "completed"
    },
    "tags": []
   },
   "outputs": [
    {
     "name": "stdout",
     "output_type": "stream",
     "text": [
      "Class weights (sentiment): {0: 0.8180041758124097, 1: 1.2861531986531987}\n"
     ]
    }
   ],
   "source": [
    "# Compute class weights for sentiment\n",
    "class_weights = compute_class_weight(\n",
    "    class_weight='balanced',\n",
    "    classes=np.unique(df['label_encoded']),\n",
    "    y=df['label_encoded']\n",
    ")\n",
    "class_weights_dict = {i : weight for i, weight in enumerate(class_weights)}\n",
    "print(\"Class weights (sentiment):\", class_weights_dict)"
   ]
  },
  {
   "cell_type": "markdown",
   "id": "3f6605f7",
   "metadata": {
    "papermill": {
     "duration": 0.014419,
     "end_time": "2025-06-23T19:33:16.594495",
     "exception": false,
     "start_time": "2025-06-23T19:33:16.580076",
     "status": "completed"
    },
    "tags": []
   },
   "source": [
    "### 🔀 Split Dataset into Train, Validation and Test Sets"
   ]
  },
  {
   "cell_type": "markdown",
   "id": "fc9cdf87",
   "metadata": {
    "papermill": {
     "duration": 0.014172,
     "end_time": "2025-06-23T19:33:16.623207",
     "exception": false,
     "start_time": "2025-06-23T19:33:16.609035",
     "status": "completed"
    },
    "tags": []
   },
   "source": [
    "We split the data into **70% training**, **20% validation**, and **10% test sets** with stratification to keep class distribution consistent."
   ]
  },
  {
   "cell_type": "code",
   "execution_count": 17,
   "id": "d52bd167",
   "metadata": {
    "execution": {
     "iopub.execute_input": "2025-06-23T19:33:16.653033Z",
     "iopub.status.busy": "2025-06-23T19:33:16.652522Z",
     "iopub.status.idle": "2025-06-23T19:33:16.698927Z",
     "shell.execute_reply": "2025-06-23T19:33:16.697947Z"
    },
    "papermill": {
     "duration": 0.062833,
     "end_time": "2025-06-23T19:33:16.700393",
     "exception": false,
     "start_time": "2025-06-23T19:33:16.637560",
     "status": "completed"
    },
    "tags": []
   },
   "outputs": [
    {
     "name": "stdout",
     "output_type": "stream",
     "text": [
      "Training set size: 21391\n",
      "Validation set size: 6112\n",
      "Test set size: 3056\n"
     ]
    }
   ],
   "source": [
    "# Define inputs and targets\n",
    "input_ids = encoded_inputs['input_ids']\n",
    "attention_masks = encoded_inputs['attention_mask']\n",
    "labels = df['label_encoded'].values\n",
    "\n",
    "# Train-test split\n",
    "X_train, X_temp, y_train, y_temp, mask_train, mask_temp = train_test_split(\n",
    "    input_ids, labels, attention_masks, test_size=0.3, random_state=42,shuffle=True, stratify=labels)\n",
    "\n",
    "# Validation-test split\n",
    "X_val, X_test, y_val, y_test, mask_val, mask_test = train_test_split(\n",
    "    X_temp, y_temp, mask_temp, test_size=0.3333, random_state=42, stratify=y_temp)\n",
    "\n",
    "print(f\"Training set size: {len(y_train)}\")\n",
    "print(f\"Validation set size: {len(y_val)}\")\n",
    "print(f\"Test set size: {len(y_test)}\")"
   ]
  },
  {
   "cell_type": "code",
   "execution_count": 18,
   "id": "00e0db00",
   "metadata": {
    "execution": {
     "iopub.execute_input": "2025-06-23T19:33:16.733140Z",
     "iopub.status.busy": "2025-06-23T19:33:16.732343Z",
     "iopub.status.idle": "2025-06-23T19:33:16.824682Z",
     "shell.execute_reply": "2025-06-23T19:33:16.823834Z"
    },
    "papermill": {
     "duration": 0.109037,
     "end_time": "2025-06-23T19:33:16.826076",
     "exception": false,
     "start_time": "2025-06-23T19:33:16.717039",
     "status": "completed"
    },
    "tags": []
   },
   "outputs": [
    {
     "data": {
      "image/png": "[encoded data removed]",
      "text/plain": [
       "<Figure size 300x300 with 1 Axes>"
      ]
     },
     "metadata": {},
     "output_type": "display_data"
    }
   ],
   "source": [
    "# Sizes of each dataset\n",
    "sizes = [len(X_train), len(X_val), len(X_test)]\n",
    "labels = ['Train', 'Validation', 'Test']\n",
    "colors = ['#66b3ff','#99ff99','#ffcc99']\n",
    "\n",
    "plt.figure(figsize=(3,3))\n",
    "plt.pie(sizes, labels=labels, colors=colors, autopct='%1.1f%%', startangle=140, textprops={'fontsize': 9})\n",
    "plt.title('Dataset Split Distribution', fontsize=9)\n",
    "plt.axis('equal')\n",
    "plt.show()"
   ]
  },
  {
   "cell_type": "markdown",
   "id": "3ffc2d4c",
   "metadata": {
    "papermill": {
     "duration": 0.014855,
     "end_time": "2025-06-23T19:33:16.856916",
     "exception": false,
     "start_time": "2025-06-23T19:33:16.842061",
     "status": "completed"
    },
    "tags": []
   },
   "source": [
    "## **🏗️ Building and Fine-tuning the DistilBert Classifier**\n"
   ]
  },
  {
   "cell_type": "markdown",
   "id": "6dced852",
   "metadata": {
    "papermill": {
     "duration": 0.014572,
     "end_time": "2025-06-23T19:33:16.886876",
     "exception": false,
     "start_time": "2025-06-23T19:33:16.872304",
     "status": "completed"
    },
    "tags": []
   },
   "source": [
    "### **Define a Custom Dataset Class**"
   ]
  },
  {
   "cell_type": "code",
   "execution_count": 19,
   "id": "bd1fb8e1",
   "metadata": {
    "execution": {
     "iopub.execute_input": "2025-06-23T19:33:16.920159Z",
     "iopub.status.busy": "2025-06-23T19:33:16.919893Z",
     "iopub.status.idle": "2025-06-23T19:33:16.924850Z",
     "shell.execute_reply": "2025-06-23T19:33:16.924139Z"
    },
    "papermill": {
     "duration": 0.022345,
     "end_time": "2025-06-23T19:33:16.926025",
     "exception": false,
     "start_time": "2025-06-23T19:33:16.903680",
     "status": "completed"
    },
    "tags": []
   },
   "outputs": [],
   "source": [
    "# Define Dataset class\n",
    "class FoodSecurityDataset(Dataset):\n",
    "    def __init__(self, input_ids, attention_mask, labels):\n",
    "        self.input_ids = input_ids\n",
    "        self.attention_mask = attention_mask\n",
    "        self.labels = labels\n",
    "\n",
    "    def __len__(self):\n",
    "        return len(self.labels)\n",
    "\n",
    "    def __getitem__(self, idx):\n",
    "        return {\n",
    "            'input_ids': self.input_ids[idx],\n",
    "            'attention_mask': self.attention_mask[idx],\n",
    "            'labels': torch.tensor(self.labels[idx], dtype=torch.long)\n",
    "        }"
   ]
  },
  {
   "cell_type": "markdown",
   "id": "90af3c1c",
   "metadata": {
    "papermill": {
     "duration": 0.015099,
     "end_time": "2025-06-23T19:33:16.956141",
     "exception": false,
     "start_time": "2025-06-23T19:33:16.941042",
     "status": "completed"
    },
    "tags": []
   },
   "source": [
    "### **Create DataLoaders**"
   ]
  },
  {
   "cell_type": "code",
   "execution_count": 20,
   "id": "9624b72c",
   "metadata": {
    "execution": {
     "iopub.execute_input": "2025-06-23T19:33:16.988134Z",
     "iopub.status.busy": "2025-06-23T19:33:16.987572Z",
     "iopub.status.idle": "2025-06-23T19:33:16.992079Z",
     "shell.execute_reply": "2025-06-23T19:33:16.991500Z"
    },
    "papermill": {
     "duration": 0.021589,
     "end_time": "2025-06-23T19:33:16.993184",
     "exception": false,
     "start_time": "2025-06-23T19:33:16.971595",
     "status": "completed"
    },
    "tags": []
   },
   "outputs": [],
   "source": [
    "# Create datasets\n",
    "train_dataset = FoodSecurityDataset(X_train, mask_train, y_train)\n",
    "val_dataset = FoodSecurityDataset(X_val, mask_val, y_val)\n",
    "test_dataset = FoodSecurityDataset(X_test, mask_test, y_test)\n",
    "\n",
    "# Create dataloaders\n",
    "batch_size = 32\n",
    "train_loader = DataLoader(train_dataset, batch_size=batch_size, shuffle=True)\n",
    "val_loader = DataLoader(val_dataset, batch_size=batch_size)\n",
    "test_loader = DataLoader(test_dataset, batch_size=batch_size)"
   ]
  },
  {
   "cell_type": "markdown",
   "id": "022b1308",
   "metadata": {
    "papermill": {
     "duration": 0.023501,
     "end_time": "2025-06-23T19:33:17.038597",
     "exception": false,
     "start_time": "2025-06-23T19:33:17.015096",
     "status": "completed"
    },
    "tags": []
   },
   "source": [
    "### **Load Pre-trained DistilBert Model for Classification**"
   ]
  },
  {
   "cell_type": "code",
   "execution_count": 21,
   "id": "bec75cab",
   "metadata": {
    "execution": {
     "iopub.execute_input": "2025-06-23T19:33:17.071031Z",
     "iopub.status.busy": "2025-06-23T19:33:17.070756Z",
     "iopub.status.idle": "2025-06-23T19:33:20.798938Z",
     "shell.execute_reply": "2025-06-23T19:33:20.798210Z"
    },
    "papermill": {
     "duration": 3.745938,
     "end_time": "2025-06-23T19:33:20.800120",
     "exception": false,
     "start_time": "2025-06-23T19:33:17.054182",
     "status": "completed"
    },
    "tags": []
   },
   "outputs": [
    {
     "data": {
      "application/vnd.jupyter.widget-view+json": {
       "model_id": "b9beae9187e344ae89a4713a90364a7c",
       "version_major": 2,
       "version_minor": 0
      },
      "text/plain": [
       "model.safetensors:   0%|          | 0.00/268M [00:00<?, ?B/s]"
      ]
     },
     "metadata": {},
     "output_type": "display_data"
    },
    {
     "name": "stderr",
     "output_type": "stream",
     "text": [
      "Some weights of DistilBertForSequenceClassification were not initialized from the model checkpoint at distilbert-base-uncased and are newly initialized: ['classifier.bias', 'classifier.weight', 'pre_classifier.bias', 'pre_classifier.weight']\n",
      "You should probably TRAIN this model on a down-stream task to be able to use it for predictions and inference.\n"
     ]
    },
    {
     "data": {
      "text/plain": [
       "DistilBertForSequenceClassification(\n",
       "  (distilbert): DistilBertModel(\n",
       "    (embeddings): Embeddings(\n",
       "      (word_embeddings): Embedding(30522, 768, padding_idx=0)\n",
       "      (position_embeddings): Embedding(512, 768)\n",
       "      (LayerNorm): LayerNorm((768,), eps=1e-12, elementwise_affine=True)\n",
       "      (dropout): Dropout(p=0.3, inplace=False)\n",
       "    )\n",
       "    (transformer): Transformer(\n",
       "      (layer): ModuleList(\n",
       "        (0-5): 6 x TransformerBlock(\n",
       "          (attention): DistilBertSdpaAttention(\n",
       "            (dropout): Dropout(p=0.2, inplace=False)\n",
       "            (q_lin): Linear(in_features=768, out_features=768, bias=True)\n",
       "            (k_lin): Linear(in_features=768, out_features=768, bias=True)\n",
       "            (v_lin): Linear(in_features=768, out_features=768, bias=True)\n",
       "            (out_lin): Linear(in_features=768, out_features=768, bias=True)\n",
       "          )\n",
       "          (sa_layer_norm): LayerNorm((768,), eps=1e-12, elementwise_affine=True)\n",
       "          (ffn): FFN(\n",
       "            (dropout): Dropout(p=0.3, inplace=False)\n",
       "            (lin1): Linear(in_features=768, out_features=3072, bias=True)\n",
       "            (lin2): Linear(in_features=3072, out_features=768, bias=True)\n",
       "            (activation): GELUActivation()\n",
       "          )\n",
       "          (output_layer_norm): LayerNorm((768,), eps=1e-12, elementwise_affine=True)\n",
       "        )\n",
       "      )\n",
       "    )\n",
       "  )\n",
       "  (pre_classifier): Linear(in_features=768, out_features=768, bias=True)\n",
       "  (classifier): Linear(in_features=768, out_features=2, bias=True)\n",
       "  (dropout): Dropout(p=0.2, inplace=False)\n",
       ")"
      ]
     },
     "execution_count": 21,
     "metadata": {},
     "output_type": "execute_result"
    }
   ],
   "source": [
    "# Load configuration and set dropout\n",
    "config = DistilBertConfig.from_pretrained(\n",
    "    'distilbert-base-uncased',\n",
    "    num_labels=len(class_mapping),\n",
    "    dropout=0.3,           # Dropout for the classifier head\n",
    "    attention_dropout=0.2  # Dropout for attention layers\n",
    ")\n",
    "\n",
    "# Load DistilBert model for sequence classification (2 classes)\n",
    "model = DistilBertForSequenceClassification.from_pretrained(\n",
    "    'distilbert-base-uncased',\n",
    "    config=config\n",
    ")\n",
    "\n",
    "\n",
    "model.to(device)"
   ]
  },
  {
   "cell_type": "code",
   "execution_count": 22,
   "id": "4ab7688d",
   "metadata": {
    "execution": {
     "iopub.execute_input": "2025-06-23T19:33:20.832127Z",
     "iopub.status.busy": "2025-06-23T19:33:20.831884Z",
     "iopub.status.idle": "2025-06-23T19:33:20.836429Z",
     "shell.execute_reply": "2025-06-23T19:33:20.835615Z"
    },
    "papermill": {
     "duration": 0.021468,
     "end_time": "2025-06-23T19:33:20.837482",
     "exception": false,
     "start_time": "2025-06-23T19:33:20.816014",
     "status": "completed"
    },
    "tags": []
   },
   "outputs": [
    {
     "name": "stdout",
     "output_type": "stream",
     "text": [
      "Trainable parameters: 66,955,010\n"
     ]
    }
   ],
   "source": [
    "# Print model summary\n",
    "def count_parameters(model):\n",
    "    return sum(p.numel() for p in model.parameters() if p.requires_grad)\n",
    "\n",
    "print(f\"Trainable parameters: {count_parameters(model):,}\")"
   ]
  },
  {
   "cell_type": "code",
   "execution_count": 23,
   "id": "55c03483",
   "metadata": {
    "execution": {
     "iopub.execute_input": "2025-06-23T19:33:20.869937Z",
     "iopub.status.busy": "2025-06-23T19:33:20.869411Z",
     "iopub.status.idle": "2025-06-23T19:33:20.874438Z",
     "shell.execute_reply": "2025-06-23T19:33:20.873920Z"
    },
    "papermill": {
     "duration": 0.02247,
     "end_time": "2025-06-23T19:33:20.875486",
     "exception": false,
     "start_time": "2025-06-23T19:33:20.853016",
     "status": "completed"
    },
    "tags": []
   },
   "outputs": [],
   "source": [
    "# Prepare optimizer and scheduler\n",
    "optimizer = AdamW(model.parameters(), lr=1e-5, weight_decay=0.01)\n",
    "\n",
    "epochs = 7\n",
    "total_steps = len(train_loader) * epochs\n",
    "\n",
    "scheduler = get_linear_schedule_with_warmup(\n",
    "    optimizer, num_warmup_steps=0, num_training_steps=total_steps)\n",
    "\n",
    "# Class weights tensor\n",
    "weights = torch.tensor(class_weights, dtype=torch.float).to(device)\n",
    "loss_fn = CrossEntropyLoss(weight=weights)"
   ]
  },
  {
   "cell_type": "markdown",
   "id": "ac2747c7",
   "metadata": {
    "papermill": {
     "duration": 0.015,
     "end_time": "2025-06-23T19:33:20.906766",
     "exception": false,
     "start_time": "2025-06-23T19:33:20.891766",
     "status": "completed"
    },
    "tags": []
   },
   "source": [
    "## **🔁 Training and Evaluation Loops**\n"
   ]
  },
  {
   "cell_type": "markdown",
   "id": "b3c26a7d",
   "metadata": {
    "papermill": {
     "duration": 0.014733,
     "end_time": "2025-06-23T19:33:20.936639",
     "exception": false,
     "start_time": "2025-06-23T19:33:20.921906",
     "status": "completed"
    },
    "tags": []
   },
   "source": [
    "### **Training & Evaluation Functions**"
   ]
  },
  {
   "cell_type": "code",
   "execution_count": 24,
   "id": "a9e8f032",
   "metadata": {
    "execution": {
     "iopub.execute_input": "2025-06-23T19:33:20.967819Z",
     "iopub.status.busy": "2025-06-23T19:33:20.967563Z",
     "iopub.status.idle": "2025-06-23T19:33:20.973328Z",
     "shell.execute_reply": "2025-06-23T19:33:20.972827Z"
    },
    "papermill": {
     "duration": 0.022539,
     "end_time": "2025-06-23T19:33:20.974386",
     "exception": false,
     "start_time": "2025-06-23T19:33:20.951847",
     "status": "completed"
    },
    "tags": []
   },
   "outputs": [],
   "source": [
    "# Training function\n",
    "def train_epoch(model, dataloader, loss_fn, optimizer, scheduler):\n",
    "    model.train()\n",
    "    total_loss = 0\n",
    "    all_preds = []\n",
    "    all_labels = []\n",
    "\n",
    "    for batch in tqdm(dataloader, desc=\"Training\"):\n",
    "        optimizer.zero_grad()\n",
    "        input_ids = batch['input_ids'].to(device)\n",
    "        attention_mask = batch['attention_mask'].to(device)\n",
    "        labels = batch['labels'].to(device)\n",
    "\n",
    "        outputs = model(input_ids, attention_mask=attention_mask, labels=labels)\n",
    "        loss = outputs.loss\n",
    "        logits = outputs.logits\n",
    "\n",
    "        loss.backward()\n",
    "        optimizer.step()\n",
    "        scheduler.step()\n",
    "\n",
    "        total_loss += loss.item()\n",
    "        preds = torch.argmax(logits, dim=1).detach().cpu().numpy()\n",
    "        all_preds.extend(preds)\n",
    "        all_labels.extend(labels.detach().cpu().numpy())\n",
    "\n",
    "    avg_loss = total_loss / len(dataloader)\n",
    "    accuracy = accuracy_score(all_labels, all_preds)\n",
    "    precision, recall, f1, _ = precision_recall_fscore_support(all_labels, all_preds, average='weighted')\n",
    "    return avg_loss, accuracy, precision, recall, f1"
   ]
  },
  {
   "cell_type": "code",
   "execution_count": 25,
   "id": "7c745b66",
   "metadata": {
    "execution": {
     "iopub.execute_input": "2025-06-23T19:33:21.004918Z",
     "iopub.status.busy": "2025-06-23T19:33:21.004699Z",
     "iopub.status.idle": "2025-06-23T19:33:21.010604Z",
     "shell.execute_reply": "2025-06-23T19:33:21.010076Z"
    },
    "papermill": {
     "duration": 0.022142,
     "end_time": "2025-06-23T19:33:21.011620",
     "exception": false,
     "start_time": "2025-06-23T19:33:20.989478",
     "status": "completed"
    },
    "tags": []
   },
   "outputs": [],
   "source": [
    "# Evaluation function\n",
    "def eval_model(model, dataloader, loss_fn):\n",
    "    model.eval()\n",
    "    total_loss = 0\n",
    "    all_preds = []\n",
    "    all_labels = []\n",
    "\n",
    "    with torch.no_grad():\n",
    "        for batch in tqdm(dataloader, desc=\"Evaluating\"):\n",
    "            input_ids = batch['input_ids'].to(device)\n",
    "            attention_mask = batch['attention_mask'].to(device)\n",
    "            labels = batch['labels'].to(device)\n",
    "\n",
    "            outputs = model(input_ids, attention_mask=attention_mask, labels=labels)\n",
    "            loss = outputs.loss\n",
    "            logits = outputs.logits\n",
    "\n",
    "            total_loss += loss.item()\n",
    "            preds = torch.argmax(logits, dim=1).detach().cpu().numpy()\n",
    "            all_preds.extend(preds)\n",
    "            all_labels.extend(labels.detach().cpu().numpy())\n",
    "\n",
    "    avg_loss = total_loss / len(dataloader)\n",
    "    accuracy = accuracy_score(all_labels, all_preds)\n",
    "    precision, recall, f1, _ = precision_recall_fscore_support(all_labels, all_preds, average='weighted')\n",
    "    return avg_loss, accuracy, precision, recall, f1, all_labels, all_preds\n"
   ]
  },
  {
   "cell_type": "markdown",
   "id": "8c07e641",
   "metadata": {
    "papermill": {
     "duration": 0.015467,
     "end_time": "2025-06-23T19:33:21.043141",
     "exception": false,
     "start_time": "2025-06-23T19:33:21.027674",
     "status": "completed"
    },
    "tags": []
   },
   "source": [
    "### **Train the Model**"
   ]
  },
  {
   "cell_type": "code",
   "execution_count": 26,
   "id": "6836d0aa",
   "metadata": {
    "execution": {
     "iopub.execute_input": "2025-06-23T19:33:21.074182Z",
     "iopub.status.busy": "2025-06-23T19:33:21.073951Z",
     "iopub.status.idle": "2025-06-23T19:44:50.418164Z",
     "shell.execute_reply": "2025-06-23T19:44:50.417446Z"
    },
    "papermill": {
     "duration": 689.361256,
     "end_time": "2025-06-23T19:44:50.419326",
     "exception": false,
     "start_time": "2025-06-23T19:33:21.058070",
     "status": "completed"
    },
    "tags": []
   },
   "outputs": [
    {
     "name": "stdout",
     "output_type": "stream",
     "text": [
      "\n",
      "Epoch 1/7\n"
     ]
    },
    {
     "name": "stderr",
     "output_type": "stream",
     "text": [
      "Training: 100%|██████████| 669/669 [01:31<00:00,  7.35it/s]\n",
      "Evaluating: 100%|██████████| 191/191 [00:07<00:00, 24.96it/s]\n"
     ]
    },
    {
     "name": "stdout",
     "output_type": "stream",
     "text": [
      "Train Loss: 0.4110, Accuracy: 0.8113, Precision: 0.8101, Recall: 0.8113, F1: 0.8085\n",
      "Val   Loss: 0.2626, Accuracy: 0.8894, Precision: 0.8892, Recall: 0.8894, F1: 0.8886\n",
      "\n",
      "Epoch 2/7\n"
     ]
    },
    {
     "name": "stderr",
     "output_type": "stream",
     "text": [
      "Training: 100%|██████████| 669/669 [01:30<00:00,  7.42it/s]\n",
      "Evaluating: 100%|██████████| 191/191 [00:07<00:00, 25.37it/s]\n"
     ]
    },
    {
     "name": "stdout",
     "output_type": "stream",
     "text": [
      "Train Loss: 0.2631, Accuracy: 0.8927, Precision: 0.8923, Recall: 0.8927, F1: 0.8923\n",
      "Val   Loss: 0.2154, Accuracy: 0.9110, Precision: 0.9107, Recall: 0.9110, F1: 0.9107\n",
      "\n",
      "Epoch 3/7\n"
     ]
    },
    {
     "name": "stderr",
     "output_type": "stream",
     "text": [
      "Training: 100%|██████████| 669/669 [01:30<00:00,  7.42it/s]\n",
      "Evaluating: 100%|██████████| 191/191 [00:07<00:00, 25.43it/s]\n"
     ]
    },
    {
     "name": "stdout",
     "output_type": "stream",
     "text": [
      "Train Loss: 0.2077, Accuracy: 0.9177, Precision: 0.9175, Recall: 0.9177, F1: 0.9175\n",
      "Val   Loss: 0.1975, Accuracy: 0.9195, Precision: 0.9194, Recall: 0.9195, F1: 0.9194\n",
      "\n",
      "Epoch 4/7\n"
     ]
    },
    {
     "name": "stderr",
     "output_type": "stream",
     "text": [
      "Training: 100%|██████████| 669/669 [01:30<00:00,  7.42it/s]\n",
      "Evaluating: 100%|██████████| 191/191 [00:07<00:00, 25.47it/s]\n"
     ]
    },
    {
     "name": "stdout",
     "output_type": "stream",
     "text": [
      "Train Loss: 0.1834, Accuracy: 0.9297, Precision: 0.9296, Recall: 0.9297, F1: 0.9296\n",
      "Val   Loss: 0.1927, Accuracy: 0.9231, Precision: 0.9241, Recall: 0.9231, F1: 0.9234\n",
      "\n",
      "Epoch 5/7\n"
     ]
    },
    {
     "name": "stderr",
     "output_type": "stream",
     "text": [
      "Training: 100%|██████████| 669/669 [01:30<00:00,  7.42it/s]\n",
      "Evaluating: 100%|██████████| 191/191 [00:07<00:00, 25.46it/s]\n"
     ]
    },
    {
     "name": "stdout",
     "output_type": "stream",
     "text": [
      "Train Loss: 0.1632, Accuracy: 0.9376, Precision: 0.9375, Recall: 0.9376, F1: 0.9375\n",
      "Val   Loss: 0.1828, Accuracy: 0.9280, Precision: 0.9280, Recall: 0.9280, F1: 0.9280\n",
      "\n",
      "Epoch 6/7\n"
     ]
    },
    {
     "name": "stderr",
     "output_type": "stream",
     "text": [
      "Training: 100%|██████████| 669/669 [01:30<00:00,  7.42it/s]\n",
      "Evaluating: 100%|██████████| 191/191 [00:07<00:00, 25.57it/s]\n"
     ]
    },
    {
     "name": "stdout",
     "output_type": "stream",
     "text": [
      "Train Loss: 0.1521, Accuracy: 0.9425, Precision: 0.9424, Recall: 0.9425, F1: 0.9425\n",
      "Val   Loss: 0.1851, Accuracy: 0.9264, Precision: 0.9264, Recall: 0.9264, F1: 0.9264\n",
      "Validation F1 did not improve. Early stop counter: 1/3\n",
      "\n",
      "Epoch 7/7\n"
     ]
    },
    {
     "name": "stderr",
     "output_type": "stream",
     "text": [
      "Training: 100%|██████████| 669/669 [01:30<00:00,  7.42it/s]\n",
      "Evaluating: 100%|██████████| 191/191 [00:07<00:00, 25.53it/s]\n"
     ]
    },
    {
     "name": "stdout",
     "output_type": "stream",
     "text": [
      "Train Loss: 0.1404, Accuracy: 0.9461, Precision: 0.9460, Recall: 0.9461, F1: 0.9460\n",
      "Val   Loss: 0.1847, Accuracy: 0.9280, Precision: 0.9281, Recall: 0.9280, F1: 0.9281\n"
     ]
    },
    {
     "data": {
      "text/plain": [
       "<All keys matched successfully>"
      ]
     },
     "execution_count": 26,
     "metadata": {},
     "output_type": "execute_result"
    }
   ],
   "source": [
    "# Training loop\n",
    "history = {'train_loss': [], 'train_acc': [], 'val_loss': [], 'val_acc': [], 'val_precision': [], 'val_recall': [], 'val_f1': []}\n",
    "\n",
    "best_val_f1 = float('-inf')\n",
    "patience = 3  # number of epochs to wait before stopping\n",
    "early_stop_counter = 0\n",
    "best_epoch = 0\n",
    "\n",
    "for epoch in range(epochs):\n",
    "    print(f\"\\nEpoch {epoch+1}/{epochs}\")\n",
    "    train_loss, train_acc, train_prec, train_rec, train_f1 = train_epoch(model, train_loader, loss_fn, optimizer, scheduler)\n",
    "    val_loss, val_acc, val_prec, val_rec, val_f1, _, _ = eval_model(model, val_loader, loss_fn)\n",
    "\n",
    "    print(f\"Train Loss: {train_loss:.4f}, Accuracy: {train_acc:.4f}, Precision: {train_prec:.4f}, Recall: {train_rec:.4f}, F1: {train_f1:.4f}\")\n",
    "    print(f\"Val   Loss: {val_loss:.4f}, Accuracy: {val_acc:.4f}, Precision: {val_prec:.4f}, Recall: {val_rec:.4f}, F1: {val_f1:.4f}\")\n",
    "\n",
    "    history['train_loss'].append(train_loss)\n",
    "    history['train_acc'].append(train_acc)\n",
    "    history['val_loss'].append(val_loss)\n",
    "    history['val_acc'].append(val_acc)\n",
    "    history['val_precision'].append(val_prec)\n",
    "    history['val_recall'].append(val_rec)\n",
    "    history['val_f1'].append(val_f1)\n",
    "\n",
    "     # ---- Early Stopping Check ----\n",
    "    if val_f1 > best_val_f1:\n",
    "        best_val_f1 = val_f1\n",
    "        early_stop_counter = 0\n",
    "        best_epoch = epoch + 1\n",
    "        torch.save(model.state_dict(), 'best_model.pt')  # save best model\n",
    "    else:\n",
    "        early_stop_counter += 1\n",
    "        print(f\"Validation F1 did not improve. Early stop counter: {early_stop_counter}/{patience}\")\n",
    "        if early_stop_counter >= patience:\n",
    "            epochs = epoch + 1\n",
    "            print(\"🛑 Early stopping triggered.\")\n",
    "            break\n",
    "\n",
    "model.load_state_dict(torch.load('best_model.pt'))"
   ]
  },
  {
   "cell_type": "markdown",
   "id": "57d2dfde",
   "metadata": {
    "papermill": {
     "duration": 0.234828,
     "end_time": "2025-06-23T19:44:50.878397",
     "exception": false,
     "start_time": "2025-06-23T19:44:50.643569",
     "status": "completed"
    },
    "tags": []
   },
   "source": [
    "## **📈 Performance Visualization**"
   ]
  },
  {
   "cell_type": "code",
   "execution_count": 27,
   "id": "08a5e9b5",
   "metadata": {
    "execution": {
     "iopub.execute_input": "2025-06-23T19:44:51.386761Z",
     "iopub.status.busy": "2025-06-23T19:44:51.385983Z",
     "iopub.status.idle": "2025-06-23T19:44:51.769772Z",
     "shell.execute_reply": "2025-06-23T19:44:51.768945Z"
    },
    "papermill": {
     "duration": 0.670033,
     "end_time": "2025-06-23T19:44:51.771156",
     "exception": false,
     "start_time": "2025-06-23T19:44:51.101123",
     "status": "completed"
    },
    "tags": []
   },
   "outputs": [
    {
     "data": {
      "image/png": "[encoded data removed]",
      "text/plain": [
       "<Figure size 1200x500 with 2 Axes>"
      ]
     },
     "metadata": {},
     "output_type": "display_data"
    }
   ],
   "source": [
    "epochs_range = range(1, len(history['train_acc']) + 1)\n",
    "\n",
    "plt.figure(figsize=(12, 5))\n",
    "\n",
    "# Accuracy plot\n",
    "plt.subplot(1, 2, 1)\n",
    "plt.plot(epochs_range, history['train_acc'], label='Train Accuracy', marker='o')\n",
    "plt.plot(epochs_range, history['val_acc'], label='Validation Accuracy', marker='o')\n",
    "plt.axvline(best_epoch, color='green', linestyle='--', label=f'Best Epoch: {best_epoch}')\n",
    "plt.xlabel('Epoch')\n",
    "plt.ylabel('Accuracy')\n",
    "plt.title('Train vs Validation Accuracy')\n",
    "plt.ylim(0, 1)\n",
    "plt.legend()\n",
    "\n",
    "# Loss plot\n",
    "plt.subplot(1, 2, 2)\n",
    "plt.plot(epochs_range, history['train_loss'], label='Train Loss', marker='o')\n",
    "plt.plot(epochs_range, history['val_loss'], label='Validation Loss', marker='o')\n",
    "plt.axvline(best_epoch, color='green', linestyle='--', label=f'Best Epoch: {best_epoch}')\n",
    "plt.xlabel('Epoch')\n",
    "plt.ylabel('Loss')\n",
    "plt.title('Train vs Validation Loss')\n",
    "plt.ylim(0, 1)\n",
    "plt.legend()\n",
    "\n",
    "plt.tight_layout()\n",
    "plt.show()"
   ]
  },
  {
   "cell_type": "markdown",
   "id": "ef4f1053",
   "metadata": {
    "papermill": {
     "duration": 0.247575,
     "end_time": "2025-06-23T19:44:52.249052",
     "exception": false,
     "start_time": "2025-06-23T19:44:52.001477",
     "status": "completed"
    },
    "tags": []
   },
   "source": [
    "### Final Evaluation on Test Set + Visualization"
   ]
  },
  {
   "cell_type": "code",
   "execution_count": 28,
   "id": "090f38a8",
   "metadata": {
    "execution": {
     "iopub.execute_input": "2025-06-23T19:44:52.701212Z",
     "iopub.status.busy": "2025-06-23T19:44:52.700943Z",
     "iopub.status.idle": "2025-06-23T19:44:56.355605Z",
     "shell.execute_reply": "2025-06-23T19:44:56.354725Z"
    },
    "papermill": {
     "duration": 3.879729,
     "end_time": "2025-06-23T19:44:56.357035",
     "exception": false,
     "start_time": "2025-06-23T19:44:52.477306",
     "status": "completed"
    },
    "tags": []
   },
   "outputs": [
    {
     "name": "stderr",
     "output_type": "stream",
     "text": [
      "Evaluating: 100%|██████████| 96/96 [00:03<00:00, 26.37it/s]"
     ]
    },
    {
     "name": "stdout",
     "output_type": "stream",
     "text": [
      "\n",
      "Test Loss: 0.1977, Accuracy: 0.9264, Precision: 0.9270, Recall: 0.9264, F1: 0.9266\n"
     ]
    },
    {
     "name": "stderr",
     "output_type": "stream",
     "text": [
      "\n"
     ]
    }
   ],
   "source": [
    "# Final evaluation on test set\n",
    "test_loss, test_acc, test_prec, test_rec, test_f1, y_true, y_pred = eval_model(model, test_loader, loss_fn)\n",
    "print(f\"\\nTest Loss: {test_loss:.4f}, Accuracy: {test_acc:.4f}, Precision: {test_prec:.4f}, Recall: {test_rec:.4f}, F1: {test_f1:.4f}\")"
   ]
  },
  {
   "cell_type": "code",
   "execution_count": 29,
   "id": "d1b92cfe",
   "metadata": {
    "execution": {
     "iopub.execute_input": "2025-06-23T19:44:56.874866Z",
     "iopub.status.busy": "2025-06-23T19:44:56.874229Z",
     "iopub.status.idle": "2025-06-23T19:44:56.886792Z",
     "shell.execute_reply": "2025-06-23T19:44:56.885925Z"
    },
    "papermill": {
     "duration": 0.300886,
     "end_time": "2025-06-23T19:44:56.888097",
     "exception": false,
     "start_time": "2025-06-23T19:44:56.587211",
     "status": "completed"
    },
    "tags": []
   },
   "outputs": [
    {
     "name": "stdout",
     "output_type": "stream",
     "text": [
      "\n",
      "Test Classification Report:\n",
      "              precision    recall  f1-score   support\n",
      "\n",
      "    negative       0.95      0.93      0.94      1868\n",
      "    positive       0.89      0.92      0.91      1188\n",
      "\n",
      "    accuracy                           0.93      3056\n",
      "   macro avg       0.92      0.93      0.92      3056\n",
      "weighted avg       0.93      0.93      0.93      3056\n",
      "\n"
     ]
    }
   ],
   "source": [
    "print(\"\\nTest Classification Report:\")\n",
    "print(classification_report(y_true, y_pred, target_names=label_encoder.classes_))"
   ]
  },
  {
   "cell_type": "code",
   "execution_count": 30,
   "id": "0134c534",
   "metadata": {
    "execution": {
     "iopub.execute_input": "2025-06-23T19:44:57.334558Z",
     "iopub.status.busy": "2025-06-23T19:44:57.333969Z",
     "iopub.status.idle": "2025-06-23T19:44:57.509226Z",
     "shell.execute_reply": "2025-06-23T19:44:57.508464Z"
    },
    "papermill": {
     "duration": 0.398244,
     "end_time": "2025-06-23T19:44:57.510582",
     "exception": false,
     "start_time": "2025-06-23T19:44:57.112338",
     "status": "completed"
    },
    "tags": []
   },
   "outputs": [
    {
     "data": {
      "image/png": "[encoded data removed]",
      "text/plain": [
       "<Figure size 800x600 with 2 Axes>"
      ]
     },
     "metadata": {},
     "output_type": "display_data"
    }
   ],
   "source": [
    "# Confusion Matrix\n",
    "cm = confusion_matrix(y_true, y_pred)\n",
    "plt.figure(figsize=(8,6))\n",
    "sns.heatmap(cm, annot=True, fmt='d', cmap='Blues', xticklabels=label_encoder.classes_, yticklabels=label_encoder.classes_)\n",
    "plt.xlabel('Predicted')\n",
    "plt.ylabel('Actual')\n",
    "plt.title('Confusion Matrix')\n",
    "plt.show()"
   ]
  },
  {
   "cell_type": "code",
   "execution_count": 31,
   "id": "d29d0a06",
   "metadata": {
    "execution": {
     "iopub.execute_input": "2025-06-23T19:44:57.956132Z",
     "iopub.status.busy": "2025-06-23T19:44:57.955850Z",
     "iopub.status.idle": "2025-06-23T19:45:01.714028Z",
     "shell.execute_reply": "2025-06-23T19:45:01.713250Z"
    },
    "papermill": {
     "duration": 3.982812,
     "end_time": "2025-06-23T19:45:01.715887",
     "exception": false,
     "start_time": "2025-06-23T19:44:57.733075",
     "status": "completed"
    },
    "tags": []
   },
   "outputs": [
    {
     "data": {
      "image/png": "[encoded data removed]",
      "text/plain": [
       "<Figure size 600x400 with 1 Axes>"
      ]
     },
     "metadata": {},
     "output_type": "display_data"
    }
   ],
   "source": [
    "y_true_bin = np.array(y_true) \n",
    "\n",
    "# Get model predictions (logits)\n",
    "model.eval()\n",
    "all_logits = []\n",
    "with torch.no_grad():\n",
    "    for batch in test_loader:\n",
    "        input_ids = batch['input_ids'].to(device)\n",
    "        attention_mask = batch['attention_mask'].to(device)\n",
    "        outputs = model(input_ids, attention_mask=attention_mask)\n",
    "        logits = outputs.logits\n",
    "        all_logits.append(logits.detach().cpu().numpy())\n",
    "\n",
    "# Convert logits to probabilities using softmax or sigmoid\n",
    "all_logits = np.vstack(all_logits)\n",
    "\n",
    "# If you have 2 output units, use softmax and take prob for class 1\n",
    "probs = torch.softmax(torch.tensor(all_logits), dim=1).numpy()[:, 1]  # Probability of positive class\n",
    "\n",
    "# Compute ROC curve and ROC-AUC\n",
    "fpr, tpr, _ = roc_curve(y_true_bin, probs)\n",
    "roc_auc = auc(fpr, tpr)\n",
    "\n",
    "# Plot ROC curve\n",
    "plt.figure(figsize=(6, 4))\n",
    "plt.plot(fpr, tpr, color='darkorange', lw=2, label=f'ROC curve (AUC = {roc_auc:.2f})')\n",
    "plt.plot([0, 1], [0, 1], color='navy', lw=2, linestyle='--')\n",
    "plt.xlim([0.0, 1.0])\n",
    "plt.ylim([0.0, 1.05])\n",
    "plt.xlabel('False Positive Rate')\n",
    "plt.ylabel('True Positive Rate')\n",
    "plt.title('ROC Curve for Binary Classification')\n",
    "plt.legend(loc=\"lower right\")\n",
    "plt.grid(alpha=0.3)\n",
    "plt.show()"
   ]
  },
  {
   "cell_type": "markdown",
   "id": "87c88008",
   "metadata": {
    "papermill": {
     "duration": 0.311863,
     "end_time": "2025-06-23T19:45:02.269655",
     "exception": false,
     "start_time": "2025-06-23T19:45:01.957792",
     "status": "completed"
    },
    "tags": []
   },
   "source": [
    "##  🧪 Test the Fine-Tuned Model on New Example Tweets\n"
   ]
  },
  {
   "cell_type": "code",
   "execution_count": 32,
   "id": "e85c30a0",
   "metadata": {
    "_kg_hide-input": false,
    "_kg_hide-output": true,
    "execution": {
     "iopub.execute_input": "2025-06-23T19:45:02.720538Z",
     "iopub.status.busy": "2025-06-23T19:45:02.719840Z",
     "iopub.status.idle": "2025-06-23T19:45:08.730549Z",
     "shell.execute_reply": "2025-06-23T19:45:08.729553Z"
    },
    "papermill": {
     "duration": 6.237775,
     "end_time": "2025-06-23T19:45:08.732029",
     "exception": false,
     "start_time": "2025-06-23T19:45:02.494254",
     "status": "completed"
    },
    "tags": []
   },
   "outputs": [
    {
     "name": "stdout",
     "output_type": "stream",
     "text": [
      "Collecting contractions\r\n",
      "  Downloading contractions-0.1.73-py2.py3-none-any.whl.metadata (1.2 kB)\r\n",
      "Collecting textsearch>=0.0.21 (from contractions)\r\n",
      "  Downloading textsearch-0.0.24-py2.py3-none-any.whl.metadata (1.2 kB)\r\n",
      "Collecting anyascii (from textsearch>=0.0.21->contractions)\r\n",
      "  Downloading anyascii-0.3.2-py3-none-any.whl.metadata (1.5 kB)\r\n",
      "Collecting pyahocorasick (from textsearch>=0.0.21->contractions)\r\n",
      "  Downloading pyahocorasick-2.2.0-cp311-cp311-manylinux_2_17_x86_64.manylinux2014_x86_64.whl.metadata (13 kB)\r\n",
      "Downloading contractions-0.1.73-py2.py3-none-any.whl (8.7 kB)\r\n",
      "Downloading textsearch-0.0.24-py2.py3-none-any.whl (7.6 kB)\r\n",
      "Downloading anyascii-0.3.2-py3-none-any.whl (289 kB)\r\n",
      "\u001b[2K   \u001b[90m━━━━━━━━━━━━━━━━━━━━━━━━━━━━━━━━━━━━━━━━\u001b[0m \u001b[32m289.9/289.9 kB\u001b[0m \u001b[31m9.8 MB/s\u001b[0m eta \u001b[36m0:00:00\u001b[0m\r\n",
      "\u001b[?25hDownloading pyahocorasick-2.2.0-cp311-cp311-manylinux_2_17_x86_64.manylinux2014_x86_64.whl (113 kB)\r\n",
      "\u001b[2K   \u001b[90m━━━━━━━━━━━━━━━━━━━━━━━━━━━━━━━━━━━━━━━━\u001b[0m \u001b[32m113.9/113.9 kB\u001b[0m \u001b[31m6.7 MB/s\u001b[0m eta \u001b[36m0:00:00\u001b[0m\r\n",
      "\u001b[?25hInstalling collected packages: pyahocorasick, anyascii, textsearch, contractions\r\n",
      "Successfully installed anyascii-0.3.2 contractions-0.1.73 pyahocorasick-2.2.0 textsearch-0.0.24\r\n"
     ]
    }
   ],
   "source": [
    "!pip install contractions"
   ]
  },
  {
   "cell_type": "code",
   "execution_count": 33,
   "id": "3c3e65a6",
   "metadata": {
    "execution": {
     "iopub.execute_input": "2025-06-23T19:45:09.191703Z",
     "iopub.status.busy": "2025-06-23T19:45:09.191378Z",
     "iopub.status.idle": "2025-06-23T19:45:09.971597Z",
     "shell.execute_reply": "2025-06-23T19:45:09.970806Z"
    },
    "papermill": {
     "duration": 1.010909,
     "end_time": "2025-06-23T19:45:09.973025",
     "exception": false,
     "start_time": "2025-06-23T19:45:08.962116",
     "status": "completed"
    },
    "tags": []
   },
   "outputs": [],
   "source": [
    "import cloudpickle\n",
    "pipeline_path = \"/kaggle/input/sentiment-analysis-text-preprocessor-pipeline/scikitlearn/default/2/text_preprocessor_pipeline.pkl\"\n",
    "# Load the pipeline\n",
    "with open(pipeline_path, \"rb\") as f:\n",
    "    text_pipeline = cloudpickle.load(f)"
   ]
  },
  {
   "cell_type": "code",
   "execution_count": 34,
   "id": "f1e880d9",
   "metadata": {
    "execution": {
     "iopub.execute_input": "2025-06-23T19:45:10.484901Z",
     "iopub.status.busy": "2025-06-23T19:45:10.484236Z",
     "iopub.status.idle": "2025-06-23T19:45:13.684967Z",
     "shell.execute_reply": "2025-06-23T19:45:13.684331Z"
    },
    "papermill": {
     "duration": 3.426671,
     "end_time": "2025-06-23T19:45:13.686357",
     "exception": false,
     "start_time": "2025-06-23T19:45:10.259686",
     "status": "completed"
    },
    "tags": []
   },
   "outputs": [],
   "source": [
    "# example tweets\n",
    "sample_tweets = [\n",
    "    # Negative (short)\n",
    "    \"No food at home again. Feeling hopeless. 😞\",\n",
    "    \n",
    "    # Positive (long)\n",
    "    \"Thanks to the generous volunteers, our community now has access to fresh meals every day, which is a blessing beyond words! 🙏❤️\",\n",
    "    \n",
    "    # Negative (long)\n",
    "    \"The prices for basic groceries have doubled this month. Many families in my neighborhood are struggling to put food on the table, and it's heartbreaking to witness.\",\n",
    "    \n",
    "    # Positive (short)\n",
    "    \"Got my free lunch today, feeling grateful! 😊\",\n",
    "    \n",
    "    # Negative (short)\n",
    "    \"Skipped dinner again, no money left for food.\",\n",
    "    \n",
    "    # Positive (long)\n",
    "    \"Amazing support from local charities providing food packages to the vulnerable. It really makes a difference in people's lives. #ThankYou\",\n",
    "    \n",
    "    # Negative (long)\n",
    "    \"The drought has destroyed the crops, leaving farmers with no income and communities facing severe food shortages.\",\n",
    "    \n",
    "    # Positive (short)\n",
    "    \"Fresh fruits and veggies at the food bank today! 🥳\",\n",
    "    \n",
    "    # Negative (short)\n",
    "    \"Empty fridge, empty stomach.\",\n",
    "    \n",
    "    # Positive (long)\n",
    "    \"Community kitchens are opening up and feeding hundreds daily. It's inspiring to see people come together to fight hunger and support each other.\"\n",
    "]\n",
    "\n",
    "# Clean the examples\n",
    "cleaned_tweets = text_pipeline.transform(sample_tweets)"
   ]
  },
  {
   "cell_type": "code",
   "execution_count": 35,
   "id": "6ccb3b7a",
   "metadata": {
    "execution": {
     "iopub.execute_input": "2025-06-23T19:45:14.141751Z",
     "iopub.status.busy": "2025-06-23T19:45:14.140902Z",
     "iopub.status.idle": "2025-06-23T19:45:14.148119Z",
     "shell.execute_reply": "2025-06-23T19:45:14.147637Z"
    },
    "papermill": {
     "duration": 0.237641,
     "end_time": "2025-06-23T19:45:14.149249",
     "exception": false,
     "start_time": "2025-06-23T19:45:13.911608",
     "status": "completed"
    },
    "tags": []
   },
   "outputs": [],
   "source": [
    "# Tokenize for BERT\n",
    "encoded = tokenizer(\n",
    "    cleaned_tweets,\n",
    "    padding=True,\n",
    "    truncation=True,\n",
    "    return_tensors='pt',\n",
    "    max_length=94\n",
    ")"
   ]
  },
  {
   "cell_type": "code",
   "execution_count": 36,
   "id": "0e8763b5",
   "metadata": {
    "execution": {
     "iopub.execute_input": "2025-06-23T19:45:14.659858Z",
     "iopub.status.busy": "2025-06-23T19:45:14.659585Z",
     "iopub.status.idle": "2025-06-23T19:45:14.671638Z",
     "shell.execute_reply": "2025-06-23T19:45:14.671124Z"
    },
    "papermill": {
     "duration": 0.295167,
     "end_time": "2025-06-23T19:45:14.672774",
     "exception": false,
     "start_time": "2025-06-23T19:45:14.377607",
     "status": "completed"
    },
    "tags": []
   },
   "outputs": [],
   "source": [
    "# Move tensors to device\n",
    "input_ids = encoded['input_ids'].to(device)\n",
    "attention_mask = encoded['attention_mask'].to(device)\n",
    "\n",
    "# Set model to eval mode and predict\n",
    "model.eval()\n",
    "with torch.no_grad():\n",
    "    outputs = model(input_ids, attention_mask=attention_mask)\n",
    "    logits = outputs.logits\n",
    "    predictions = torch.argmax(logits, dim=1).cpu().numpy()"
   ]
  },
  {
   "cell_type": "code",
   "execution_count": 37,
   "id": "ff5bcdc6",
   "metadata": {
    "_kg_hide-input": false,
    "_kg_hide-output": true,
    "execution": {
     "iopub.execute_input": "2025-06-23T19:45:15.124633Z",
     "iopub.status.busy": "2025-06-23T19:45:15.123884Z",
     "iopub.status.idle": "2025-06-23T19:45:15.129487Z",
     "shell.execute_reply": "2025-06-23T19:45:15.128585Z"
    },
    "papermill": {
     "duration": 0.234054,
     "end_time": "2025-06-23T19:45:15.130720",
     "exception": false,
     "start_time": "2025-06-23T19:45:14.896666",
     "status": "completed"
    },
    "tags": []
   },
   "outputs": [
    {
     "name": "stdout",
     "output_type": "stream",
     "text": [
      "Tweet     : No food at home again. Feeling hopeless. 😞\n",
      "cleaned     : food home feeling hopeless\n",
      "Predicted : Negative\n",
      "--------------------------------------------------\n",
      "Tweet     : Thanks to the generous volunteers, our community now has access to fresh meals every day, which is a blessing beyond words! 🙏❤️\n",
      "cleaned     : thanks generous volunteer community access fresh meal every day blessing beyond word\n",
      "Predicted : Positive\n",
      "--------------------------------------------------\n",
      "Tweet     : The prices for basic groceries have doubled this month. Many families in my neighborhood are struggling to put food on the table, and it's heartbreaking to witness.\n",
      "cleaned     : price basic grocery doubled month many family neighborhood struggling put food table heartbreaking witness\n",
      "Predicted : Negative\n",
      "--------------------------------------------------\n",
      "Tweet     : Got my free lunch today, feeling grateful! 😊\n",
      "cleaned     : got free lunch today feeling grateful\n",
      "Predicted : Positive\n",
      "--------------------------------------------------\n",
      "Tweet     : Skipped dinner again, no money left for food.\n",
      "cleaned     : skipped dinner money left food\n",
      "Predicted : Negative\n",
      "--------------------------------------------------\n",
      "Tweet     : Amazing support from local charities providing food packages to the vulnerable. It really makes a difference in people's lives. #ThankYou\n",
      "cleaned     : amazing support local charity providing food package vulnerable really make difference people life\n",
      "Predicted : Positive\n",
      "--------------------------------------------------\n",
      "Tweet     : The drought has destroyed the crops, leaving farmers with no income and communities facing severe food shortages.\n",
      "cleaned     : drought destroyed crop leaving farmer income community facing severe food shortage\n",
      "Predicted : Negative\n",
      "--------------------------------------------------\n",
      "Tweet     : Fresh fruits and veggies at the food bank today! 🥳\n",
      "cleaned     : fresh fruit veggie food bank today\n",
      "Predicted : Positive\n",
      "--------------------------------------------------\n",
      "Tweet     : Empty fridge, empty stomach.\n",
      "cleaned     : empty fridge empty stomach\n",
      "Predicted : Negative\n",
      "--------------------------------------------------\n",
      "Tweet     : Community kitchens are opening up and feeding hundreds daily. It's inspiring to see people come together to fight hunger and support each other.\n",
      "cleaned     : community kitchen opening feeding hundred daily inspiring see people come together fight hunger support\n",
      "Predicted : Positive\n",
      "--------------------------------------------------\n"
     ]
    }
   ],
   "source": [
    "label_mapping = {\n",
    "    0: \"Negative\",\n",
    "    1: \"Positive\"\n",
    "}\n",
    "\n",
    "# Display predictions\n",
    "for tweet, cleaned, label in zip(sample_tweets, cleaned_tweets, predictions):\n",
    "    print(f\"Tweet     : {tweet}\")\n",
    "    print(f\"cleaned     : {cleaned}\")\n",
    "    print(f\"Predicted : {label_mapping[label]}\")\n",
    "    print(\"-\" * 50)"
   ]
  },
  {
   "cell_type": "code",
   "execution_count": 38,
   "id": "d19c14b8",
   "metadata": {
    "execution": {
     "iopub.execute_input": "2025-06-23T19:45:15.575779Z",
     "iopub.status.busy": "2025-06-23T19:45:15.575488Z",
     "iopub.status.idle": "2025-06-23T19:45:15.640328Z",
     "shell.execute_reply": "2025-06-23T19:45:15.639461Z"
    },
    "papermill": {
     "duration": 0.286332,
     "end_time": "2025-06-23T19:45:15.641397",
     "exception": false,
     "start_time": "2025-06-23T19:45:15.355065",
     "status": "completed"
    },
    "tags": []
   },
   "outputs": [
    {
     "name": "stderr",
     "output_type": "stream",
     "text": [
      "/tmp/ipykernel_19/1502671688.py:23: FutureWarning: Styler.applymap has been deprecated. Use Styler.map instead.\n",
      "  styled_df = results_df.style.applymap(highlight_sentiment, subset=[\"Predicted Label\"])\n"
     ]
    },
    {
     "data": {
      "text/html": [
       "<style type=\"text/css\">\n",
       "#T_d5719_row0_col2, #T_d5719_row2_col2, #T_d5719_row4_col2, #T_d5719_row6_col2, #T_d5719_row8_col2 {\n",
       "  background-color: #f8d7da;\n",
       "  color: #721c24;\n",
       "  font-weight: bold;\n",
       "}\n",
       "#T_d5719_row1_col2, #T_d5719_row3_col2, #T_d5719_row5_col2, #T_d5719_row7_col2, #T_d5719_row9_col2 {\n",
       "  background-color: #d4edda;\n",
       "  color: #155724;\n",
       "  font-weight: bold;\n",
       "}\n",
       "</style>\n",
       "<table id=\"T_d5719\">\n",
       "  <thead>\n",
       "    <tr>\n",
       "      <th class=\"blank level0\" >&nbsp;</th>\n",
       "      <th id=\"T_d5719_level0_col0\" class=\"col_heading level0 col0\" >Original Tweet</th>\n",
       "      <th id=\"T_d5719_level0_col1\" class=\"col_heading level0 col1\" >Cleaned Tweet</th>\n",
       "      <th id=\"T_d5719_level0_col2\" class=\"col_heading level0 col2\" >Predicted Label</th>\n",
       "    </tr>\n",
       "  </thead>\n",
       "  <tbody>\n",
       "    <tr>\n",
       "      <th id=\"T_d5719_level0_row0\" class=\"row_heading level0 row0\" >0</th>\n",
       "      <td id=\"T_d5719_row0_col0\" class=\"data row0 col0\" >No food at home again. Feeling hopeless. 😞</td>\n",
       "      <td id=\"T_d5719_row0_col1\" class=\"data row0 col1\" >food home feeling hopeless</td>\n",
       "      <td id=\"T_d5719_row0_col2\" class=\"data row0 col2\" >Negative</td>\n",
       "    </tr>\n",
       "    <tr>\n",
       "      <th id=\"T_d5719_level0_row1\" class=\"row_heading level0 row1\" >1</th>\n",
       "      <td id=\"T_d5719_row1_col0\" class=\"data row1 col0\" >Thanks to the generous volunteers, our community now has access to fresh meals every day, which is a blessing beyond words! 🙏❤️</td>\n",
       "      <td id=\"T_d5719_row1_col1\" class=\"data row1 col1\" >thanks generous volunteer community access fresh meal every day blessing beyond word</td>\n",
       "      <td id=\"T_d5719_row1_col2\" class=\"data row1 col2\" >Positive</td>\n",
       "    </tr>\n",
       "    <tr>\n",
       "      <th id=\"T_d5719_level0_row2\" class=\"row_heading level0 row2\" >2</th>\n",
       "      <td id=\"T_d5719_row2_col0\" class=\"data row2 col0\" >The prices for basic groceries have doubled this month. Many families in my neighborhood are struggling to put food on the table, and it's heartbreaking to witness.</td>\n",
       "      <td id=\"T_d5719_row2_col1\" class=\"data row2 col1\" >price basic grocery doubled month many family neighborhood struggling put food table heartbreaking witness</td>\n",
       "      <td id=\"T_d5719_row2_col2\" class=\"data row2 col2\" >Negative</td>\n",
       "    </tr>\n",
       "    <tr>\n",
       "      <th id=\"T_d5719_level0_row3\" class=\"row_heading level0 row3\" >3</th>\n",
       "      <td id=\"T_d5719_row3_col0\" class=\"data row3 col0\" >Got my free lunch today, feeling grateful! 😊</td>\n",
       "      <td id=\"T_d5719_row3_col1\" class=\"data row3 col1\" >got free lunch today feeling grateful</td>\n",
       "      <td id=\"T_d5719_row3_col2\" class=\"data row3 col2\" >Positive</td>\n",
       "    </tr>\n",
       "    <tr>\n",
       "      <th id=\"T_d5719_level0_row4\" class=\"row_heading level0 row4\" >4</th>\n",
       "      <td id=\"T_d5719_row4_col0\" class=\"data row4 col0\" >Skipped dinner again, no money left for food.</td>\n",
       "      <td id=\"T_d5719_row4_col1\" class=\"data row4 col1\" >skipped dinner money left food</td>\n",
       "      <td id=\"T_d5719_row4_col2\" class=\"data row4 col2\" >Negative</td>\n",
       "    </tr>\n",
       "    <tr>\n",
       "      <th id=\"T_d5719_level0_row5\" class=\"row_heading level0 row5\" >5</th>\n",
       "      <td id=\"T_d5719_row5_col0\" class=\"data row5 col0\" >Amazing support from local charities providing food packages to the vulnerable. It really makes a difference in people's lives. #ThankYou</td>\n",
       "      <td id=\"T_d5719_row5_col1\" class=\"data row5 col1\" >amazing support local charity providing food package vulnerable really make difference people life</td>\n",
       "      <td id=\"T_d5719_row5_col2\" class=\"data row5 col2\" >Positive</td>\n",
       "    </tr>\n",
       "    <tr>\n",
       "      <th id=\"T_d5719_level0_row6\" class=\"row_heading level0 row6\" >6</th>\n",
       "      <td id=\"T_d5719_row6_col0\" class=\"data row6 col0\" >The drought has destroyed the crops, leaving farmers with no income and communities facing severe food shortages.</td>\n",
       "      <td id=\"T_d5719_row6_col1\" class=\"data row6 col1\" >drought destroyed crop leaving farmer income community facing severe food shortage</td>\n",
       "      <td id=\"T_d5719_row6_col2\" class=\"data row6 col2\" >Negative</td>\n",
       "    </tr>\n",
       "    <tr>\n",
       "      <th id=\"T_d5719_level0_row7\" class=\"row_heading level0 row7\" >7</th>\n",
       "      <td id=\"T_d5719_row7_col0\" class=\"data row7 col0\" >Fresh fruits and veggies at the food bank today! 🥳</td>\n",
       "      <td id=\"T_d5719_row7_col1\" class=\"data row7 col1\" >fresh fruit veggie food bank today</td>\n",
       "      <td id=\"T_d5719_row7_col2\" class=\"data row7 col2\" >Positive</td>\n",
       "    </tr>\n",
       "    <tr>\n",
       "      <th id=\"T_d5719_level0_row8\" class=\"row_heading level0 row8\" >8</th>\n",
       "      <td id=\"T_d5719_row8_col0\" class=\"data row8 col0\" >Empty fridge, empty stomach.</td>\n",
       "      <td id=\"T_d5719_row8_col1\" class=\"data row8 col1\" >empty fridge empty stomach</td>\n",
       "      <td id=\"T_d5719_row8_col2\" class=\"data row8 col2\" >Negative</td>\n",
       "    </tr>\n",
       "    <tr>\n",
       "      <th id=\"T_d5719_level0_row9\" class=\"row_heading level0 row9\" >9</th>\n",
       "      <td id=\"T_d5719_row9_col0\" class=\"data row9 col0\" >Community kitchens are opening up and feeding hundreds daily. It's inspiring to see people come together to fight hunger and support each other.</td>\n",
       "      <td id=\"T_d5719_row9_col1\" class=\"data row9 col1\" >community kitchen opening feeding hundred daily inspiring see people come together fight hunger support</td>\n",
       "      <td id=\"T_d5719_row9_col2\" class=\"data row9 col2\" >Positive</td>\n",
       "    </tr>\n",
       "  </tbody>\n",
       "</table>\n"
      ],
      "text/plain": [
       "<pandas.io.formats.style.Styler at 0x7f4f91d7c2d0>"
      ]
     },
     "metadata": {},
     "output_type": "display_data"
    }
   ],
   "source": [
    "from IPython.display import display\n",
    "\n",
    "# Prepare results in a DataFrame\n",
    "results_df = pd.DataFrame({\n",
    "    \"Original Tweet\": sample_tweets,\n",
    "    \"Cleaned Tweet\": cleaned_tweets,\n",
    "    \"Predicted Label\": [label_mapping[label] for label in predictions]\n",
    "})\n",
    "\n",
    "# Define color function\n",
    "def highlight_sentiment(val):\n",
    "    color = 'black'\n",
    "    background = 'white'\n",
    "    if val == \"Positive\":\n",
    "        background = '#d4edda'  # light green\n",
    "        color = '#155724'\n",
    "    elif val == \"Negative\":\n",
    "        background = '#f8d7da'  # light red\n",
    "        color = '#721c24'\n",
    "    return f'background-color: {background}; color: {color}; font-weight: bold;'\n",
    "\n",
    "# Display styled DataFrame\n",
    "styled_df = results_df.style.applymap(highlight_sentiment, subset=[\"Predicted Label\"])\n",
    "display(styled_df)"
   ]
  },
  {
   "cell_type": "markdown",
   "id": "9bc7d695",
   "metadata": {
    "papermill": {
     "duration": 0.222855,
     "end_time": "2025-06-23T19:45:16.150178",
     "exception": false,
     "start_time": "2025-06-23T19:45:15.927323",
     "status": "completed"
    },
    "tags": []
   },
   "source": [
    "## **1️⃣ Save model and tokenizer locally in Kaggle’s output directory**"
   ]
  },
  {
   "cell_type": "code",
   "execution_count": 39,
   "id": "ad961410",
   "metadata": {
    "execution": {
     "iopub.execute_input": "2025-06-23T19:45:16.604784Z",
     "iopub.status.busy": "2025-06-23T19:45:16.604256Z",
     "iopub.status.idle": "2025-06-23T19:45:17.414420Z",
     "shell.execute_reply": "2025-06-23T19:45:17.413775Z"
    },
    "papermill": {
     "duration": 1.039223,
     "end_time": "2025-06-23T19:45:17.415556",
     "exception": false,
     "start_time": "2025-06-23T19:45:16.376333",
     "status": "completed"
    },
    "tags": []
   },
   "outputs": [
    {
     "data": {
      "text/plain": [
       "('/kaggle/working/DistilBert_sentiment_model/tokenizer_config.json',\n",
       " '/kaggle/working/DistilBert_sentiment_model/special_tokens_map.json',\n",
       " '/kaggle/working/DistilBert_sentiment_model/vocab.txt',\n",
       " '/kaggle/working/DistilBert_sentiment_model/added_tokens.json')"
      ]
     },
     "execution_count": 39,
     "metadata": {},
     "output_type": "execute_result"
    }
   ],
   "source": [
    "# Save directory (Kaggle output folder)\n",
    "save_path = \"/kaggle/working/DistilBert_sentiment_model\"\n",
    "\n",
    "# Save model\n",
    "model.save_pretrained(save_path)\n",
    "\n",
    "# Save tokenizer as well (important for inference)\n",
    "tokenizer = DistilBertTokenizer.from_pretrained('distilbert-base-uncased')\n",
    "tokenizer.save_pretrained(save_path)"
   ]
  },
  {
   "cell_type": "markdown",
   "id": "160f81af",
   "metadata": {
    "papermill": {
     "duration": 0.222292,
     "end_time": "2025-06-23T19:45:17.862630",
     "exception": false,
     "start_time": "2025-06-23T19:45:17.640338",
     "status": "completed"
    },
    "tags": []
   },
   "source": [
    "### <center>🙏 *Thank You!* </center>\n",
    "<center> Thank you for exploring this notebook! 💙 </center>\n",
    "<center> If you found it helpful, please consider giving it an upvote 👍</center>\n",
    "<center>----</center>\n",
    "\n",
    "Feel free to leave comments, suggestions, or questions. I’d love to hear your feedback! 😊\n",
    "\n",
    "👉 Don’t forget to check out **[Notebook 1: Data Cleaning & NLP Pipeline](https://www.kaggle.com/code/dhaouadiibtihel98/clean-data-sentiment-analysis-lda-topic-modeling/notebook#%F0%9F%94%8D-Step-3:-Load-and-Explore-the-Dataset)** if you haven’t already!"
   ]
  }
 ],
 "metadata": {
  "kaggle": {
   "accelerator": "gpu",
   "dataSources": [
    {
     "datasetId": 7526752,
     "sourceId": 12259951,
     "sourceType": "datasetVersion"
    },
    {
     "isSourceIdPinned": true,
     "modelId": 371994,
     "modelInstanceId": 350743,
     "sourceId": 446912,
     "sourceType": "modelInstanceVersion"
    }
   ],
   "dockerImageVersionId": 31041,
   "isGpuEnabled": true,
   "isInternetEnabled": true,
   "language": "python",
   "sourceType": "notebook"
  },
  "kernelspec": {
   "display_name": "Python 3",
   "language": "python",
   "name": "python3"
  },
  "language_info": {
   "codemirror_mode": {
    "name": "ipython",
    "version": 3
   },
   "file_extension": ".py",
   "mimetype": "text/x-python",
   "name": "python",
   "nbconvert_exporter": "python",
   "pygments_lexer": "ipython3",
   "version": "3.11.11"
  },
  "papermill": {
   "default_parameters": {},
   "duration": 783.964999,
   "end_time": "2025-06-23T19:45:21.334575",
   "environment_variables": {},
   "exception": null,
   "input_path": "__notebook__.ipynb",
   "output_path": "__notebook__.ipynb",
   "parameters": {},
   "start_time": "2025-06-23T19:32:17.369576",
   "version": "2.6.0"
  },
  "widgets": {
   "application/vnd.jupyter.widget-state+json": {
    "state": {
     "06d0c7ab897b4a5db768c11a9a777f1d": {
      "model_module": "@jupyter-widgets/controls",
      "model_module_version": "2.0.0",
      "model_name": "FloatProgressModel",
      "state": {
       "_dom_classes": [],
       "_model_module": "@jupyter-widgets/controls",
       "_model_module_version": "2.0.0",
       "_model_name": "FloatProgressModel",
       "_view_count": null,
       "_view_module": "@jupyter-widgets/controls",
       "_view_module_version": "2.0.0",
       "_view_name": "ProgressView",
       "bar_style": "success",
       "description": "",
       "description_allow_html": false,
       "layout": "IPY_MODEL_3d8fde5dc5384eb2839a19cc57c2bf05",
       "max": 466062.0,
       "min": 0.0,
       "orientation": "horizontal",
       "style": "IPY_MODEL_32629fa9ea30410f9b8c1cbb212bf2ca",
       "tabbable": null,
       "tooltip": null,
       "value": 466062.0
      }
     },
     "0ef2ddd4c6084bc4a83613d37719142c": {
      "model_module": "@jupyter-widgets/base",
      "model_module_version": "2.0.0",
      "model_name": "LayoutModel",
      "state": {
       "_model_module": "@jupyter-widgets/base",
       "_model_module_version": "2.0.0",
       "_model_name": "LayoutModel",
       "_view_count": null,
       "_view_module": "@jupyter-widgets/base",
       "_view_module_version": "2.0.0",
       "_view_name": "LayoutView",
       "align_content": null,
       "align_items": null,
       "align_self": null,
       "border_bottom": null,
       "border_left": null,
       "border_right": null,
       "border_top": null,
       "bottom": null,
       "display": null,
       "flex": null,
       "flex_flow": null,
       "grid_area": null,
       "grid_auto_columns": null,
       "grid_auto_flow": null,
       "grid_auto_rows": null,
       "grid_column": null,
       "grid_gap": null,
       "grid_row": null,
       "grid_template_areas": null,
       "grid_template_columns": null,
       "grid_template_rows": null,
       "height": null,
       "justify_content": null,
       "justify_items": null,
       "left": null,
       "margin": null,
       "max_height": null,
       "max_width": null,
       "min_height": null,
       "min_width": null,
       "object_fit": null,
       "object_position": null,
       "order": null,
       "overflow": null,
       "padding": null,
       "right": null,
       "top": null,
       "visibility": null,
       "width": null
      }
     },
     "0f787991e64e4f82a77f1e4b3ce5b015": {
      "model_module": "@jupyter-widgets/controls",
      "model_module_version": "2.0.0",
      "model_name": "FloatProgressModel",
      "state": {
       "_dom_classes": [],
       "_model_module": "@jupyter-widgets/controls",
       "_model_module_version": "2.0.0",
       "_model_name": "FloatProgressModel",
       "_view_count": null,
       "_view_module": "@jupyter-widgets/controls",
       "_view_module_version": "2.0.0",
       "_view_name": "ProgressView",
       "bar_style": "success",
       "description": "",
       "description_allow_html": false,
       "layout": "IPY_MODEL_d92bb95720f74d29a57b42f609742865",
       "max": 267954768.0,
       "min": 0.0,
       "orientation": "horizontal",
       "style": "IPY_MODEL_1071e9c0672a4c4ba1a6a56edf5598ec",
       "tabbable": null,
       "tooltip": null,
       "value": 267954768.0
      }
     },
     "0fd7e35ea6884f629d03b1da178f1b1f": {
      "model_module": "@jupyter-widgets/base",
      "model_module_version": "2.0.0",
      "model_name": "LayoutModel",
      "state": {
       "_model_module": "@jupyter-widgets/base",
       "_model_module_version": "2.0.0",
       "_model_name": "LayoutModel",
       "_view_count": null,
       "_view_module": "@jupyter-widgets/base",
       "_view_module_version": "2.0.0",
       "_view_name": "LayoutView",
       "align_content": null,
       "align_items": null,
       "align_self": null,
       "border_bottom": null,
       "border_left": null,
       "border_right": null,
       "border_top": null,
       "bottom": null,
       "display": null,
       "flex": null,
       "flex_flow": null,
       "grid_area": null,
       "grid_auto_columns": null,
       "grid_auto_flow": null,
       "grid_auto_rows": null,
       "grid_column": null,
       "grid_gap": null,
       "grid_row": null,
       "grid_template_areas": null,
       "grid_template_columns": null,
       "grid_template_rows": null,
       "height": null,
       "justify_content": null,
       "justify_items": null,
       "left": null,
       "margin": null,
       "max_height": null,
       "max_width": null,
       "min_height": null,
       "min_width": null,
       "object_fit": null,
       "object_position": null,
       "order": null,
       "overflow": null,
       "padding": null,
       "right": null,
       "top": null,
       "visibility": null,
       "width": null
      }
     },
     "10071cff3e974c72aef02186d2ca2224": {
      "model_module": "@jupyter-widgets/controls",
      "model_module_version": "2.0.0",
      "model_name": "ProgressStyleModel",
      "state": {
       "_model_module": "@jupyter-widgets/controls",
       "_model_module_version": "2.0.0",
       "_model_name": "ProgressStyleModel",
       "_view_count": null,
       "_view_module": "@jupyter-widgets/base",
       "_view_module_version": "2.0.0",
       "_view_name": "StyleView",
       "bar_color": null,
       "description_width": ""
      }
     },
     "101e454003c842ae9db304b12948b3b5": {
      "model_module": "@jupyter-widgets/base",
      "model_module_version": "2.0.0",
      "model_name": "LayoutModel",
      "state": {
       "_model_module": "@jupyter-widgets/base",
       "_model_module_version": "2.0.0",
       "_model_name": "LayoutModel",
       "_view_count": null,
       "_view_module": "@jupyter-widgets/base",
       "_view_module_version": "2.0.0",
       "_view_name": "LayoutView",
       "align_content": null,
       "align_items": null,
       "align_self": null,
       "border_bottom": null,
       "border_left": null,
       "border_right": null,
       "border_top": null,
       "bottom": null,
       "display": null,
       "flex": null,
       "flex_flow": null,
       "grid_area": null,
       "grid_auto_columns": null,
       "grid_auto_flow": null,
       "grid_auto_rows": null,
       "grid_column": null,
       "grid_gap": null,
       "grid_row": null,
       "grid_template_areas": null,
       "grid_template_columns": null,
       "grid_template_rows": null,
       "height": null,
       "justify_content": null,
       "justify_items": null,
       "left": null,
       "margin": null,
       "max_height": null,
       "max_width": null,
       "min_height": null,
       "min_width": null,
       "object_fit": null,
       "object_position": null,
       "order": null,
       "overflow": null,
       "padding": null,
       "right": null,
       "top": null,
       "visibility": null,
       "width": null
      }
     },
     "1071e9c0672a4c4ba1a6a56edf5598ec": {
      "model_module": "@jupyter-widgets/controls",
      "model_module_version": "2.0.0",
      "model_name": "ProgressStyleModel",
      "state": {
       "_model_module": "@jupyter-widgets/controls",
       "_model_module_version": "2.0.0",
       "_model_name": "ProgressStyleModel",
       "_view_count": null,
       "_view_module": "@jupyter-widgets/base",
       "_view_module_version": "2.0.0",
       "_view_name": "StyleView",
       "bar_color": null,
       "description_width": ""
      }
     },
     "11ce4ca2f1704932a1f33882be5a8caa": {
      "model_module": "@jupyter-widgets/controls",
      "model_module_version": "2.0.0",
      "model_name": "HTMLModel",
      "state": {
       "_dom_classes": [],
       "_model_module": "@jupyter-widgets/controls",
       "_model_module_version": "2.0.0",
       "_model_name": "HTMLModel",
       "_view_count": null,
       "_view_module": "@jupyter-widgets/controls",
       "_view_module_version": "2.0.0",
       "_view_name": "HTMLView",
       "description": "",
       "description_allow_html": false,
       "layout": "IPY_MODEL_1df626f3788d474d975331e79bf7a767",
       "placeholder": "​",
       "style": "IPY_MODEL_5148650aab5e4a25b156011a99b2ac55",
       "tabbable": null,
       "tooltip": null,
       "value": "tokenizer_config.json: 100%"
      }
     },
     "15fb95b3616f41acb97468df1c12348e": {
      "model_module": "@jupyter-widgets/base",
      "model_module_version": "2.0.0",
      "model_name": "LayoutModel",
      "state": {
       "_model_module": "@jupyter-widgets/base",
       "_model_module_version": "2.0.0",
       "_model_name": "LayoutModel",
       "_view_count": null,
       "_view_module": "@jupyter-widgets/base",
       "_view_module_version": "2.0.0",
       "_view_name": "LayoutView",
       "align_content": null,
       "align_items": null,
       "align_self": null,
       "border_bottom": null,
       "border_left": null,
       "border_right": null,
       "border_top": null,
       "bottom": null,
       "display": null,
       "flex": null,
       "flex_flow": null,
       "grid_area": null,
       "grid_auto_columns": null,
       "grid_auto_flow": null,
       "grid_auto_rows": null,
       "grid_column": null,
       "grid_gap": null,
       "grid_row": null,
       "grid_template_areas": null,
       "grid_template_columns": null,
       "grid_template_rows": null,
       "height": null,
       "justify_content": null,
       "justify_items": null,
       "left": null,
       "margin": null,
       "max_height": null,
       "max_width": null,
       "min_height": null,
       "min_width": null,
       "object_fit": null,
       "object_position": null,
       "order": null,
       "overflow": null,
       "padding": null,
       "right": null,
       "top": null,
       "visibility": null,
       "width": null
      }
     },
     "185b2078bee14d829cd6fb1b456bc593": {
      "model_module": "@jupyter-widgets/base",
      "model_module_version": "2.0.0",
      "model_name": "LayoutModel",
      "state": {
       "_model_module": "@jupyter-widgets/base",
       "_model_module_version": "2.0.0",
       "_model_name": "LayoutModel",
       "_view_count": null,
       "_view_module": "@jupyter-widgets/base",
       "_view_module_version": "2.0.0",
       "_view_name": "LayoutView",
       "align_content": null,
       "align_items": null,
       "align_self": null,
       "border_bottom": null,
       "border_left": null,
       "border_right": null,
       "border_top": null,
       "bottom": null,
       "display": null,
       "flex": null,
       "flex_flow": null,
       "grid_area": null,
       "grid_auto_columns": null,
       "grid_auto_flow": null,
       "grid_auto_rows": null,
       "grid_column": null,
       "grid_gap": null,
       "grid_row": null,
       "grid_template_areas": null,
       "grid_template_columns": null,
       "grid_template_rows": null,
       "height": null,
       "justify_content": null,
       "justify_items": null,
       "left": null,
       "margin": null,
       "max_height": null,
       "max_width": null,
       "min_height": null,
       "min_width": null,
       "object_fit": null,
       "object_position": null,
       "order": null,
       "overflow": null,
       "padding": null,
       "right": null,
       "top": null,
       "visibility": null,
       "width": null
      }
     },
     "1caeab16623e4c1eba1ea817e0d71a95": {
      "model_module": "@jupyter-widgets/controls",
      "model_module_version": "2.0.0",
      "model_name": "HTMLModel",
      "state": {
       "_dom_classes": [],
       "_model_module": "@jupyter-widgets/controls",
       "_model_module_version": "2.0.0",
       "_model_name": "HTMLModel",
       "_view_count": null,
       "_view_module": "@jupyter-widgets/controls",
       "_view_module_version": "2.0.0",
       "_view_name": "HTMLView",
       "description": "",
       "description_allow_html": false,
       "layout": "IPY_MODEL_eef8f4117e6849e4bb007b8eac38d596",
       "placeholder": "​",
       "style": "IPY_MODEL_71fa8569297d451e880de96892684e9a",
       "tabbable": null,
       "tooltip": null,
       "value": "tokenizer.json: 100%"
      }
     },
     "1df626f3788d474d975331e79bf7a767": {
      "model_module": "@jupyter-widgets/base",
      "model_module_version": "2.0.0",
      "model_name": "LayoutModel",
      "state": {
       "_model_module": "@jupyter-widgets/base",
       "_model_module_version": "2.0.0",
       "_model_name": "LayoutModel",
       "_view_count": null,
       "_view_module": "@jupyter-widgets/base",
       "_view_module_version": "2.0.0",
       "_view_name": "LayoutView",
       "align_content": null,
       "align_items": null,
       "align_self": null,
       "border_bottom": null,
       "border_left": null,
       "border_right": null,
       "border_top": null,
       "bottom": null,
       "display": null,
       "flex": null,
       "flex_flow": null,
       "grid_area": null,
       "grid_auto_columns": null,
       "grid_auto_flow": null,
       "grid_auto_rows": null,
       "grid_column": null,
       "grid_gap": null,
       "grid_row": null,
       "grid_template_areas": null,
       "grid_template_columns": null,
       "grid_template_rows": null,
       "height": null,
       "justify_content": null,
       "justify_items": null,
       "left": null,
       "margin": null,
       "max_height": null,
       "max_width": null,
       "min_height": null,
       "min_width": null,
       "object_fit": null,
       "object_position": null,
       "order": null,
       "overflow": null,
       "padding": null,
       "right": null,
       "top": null,
       "visibility": null,
       "width": null
      }
     },
     "1e0d6e4eb87f43a89c4f72a9b36485fe": {
      "model_module": "@jupyter-widgets/controls",
      "model_module_version": "2.0.0",
      "model_name": "HTMLStyleModel",
      "state": {
       "_model_module": "@jupyter-widgets/controls",
       "_model_module_version": "2.0.0",
       "_model_name": "HTMLStyleModel",
       "_view_count": null,
       "_view_module": "@jupyter-widgets/base",
       "_view_module_version": "2.0.0",
       "_view_name": "StyleView",
       "background": null,
       "description_width": "",
       "font_size": null,
       "text_color": null
      }
     },
     "23a0ba5bc0724cd18b557bbc2bf9f659": {
      "model_module": "@jupyter-widgets/controls",
      "model_module_version": "2.0.0",
      "model_name": "HTMLStyleModel",
      "state": {
       "_model_module": "@jupyter-widgets/controls",
       "_model_module_version": "2.0.0",
       "_model_name": "HTMLStyleModel",
       "_view_count": null,
       "_view_module": "@jupyter-widgets/base",
       "_view_module_version": "2.0.0",
       "_view_name": "StyleView",
       "background": null,
       "description_width": "",
       "font_size": null,
       "text_color": null
      }
     },
     "322d9bb1ecc64486bb589569e6df588f": {
      "model_module": "@jupyter-widgets/controls",
      "model_module_version": "2.0.0",
      "model_name": "HTMLModel",
      "state": {
       "_dom_classes": [],
       "_model_module": "@jupyter-widgets/controls",
       "_model_module_version": "2.0.0",
       "_model_name": "HTMLModel",
       "_view_count": null,
       "_view_module": "@jupyter-widgets/controls",
       "_view_module_version": "2.0.0",
       "_view_name": "HTMLView",
       "description": "",
       "description_allow_html": false,
       "layout": "IPY_MODEL_8869d6676aed4beb8127025c344743ee",
       "placeholder": "​",
       "style": "IPY_MODEL_fd4253304a424a86ae79ccf3c0a6cee0",
       "tabbable": null,
       "tooltip": null,
       "value": " 232k/232k [00:00&lt;00:00, 13.2MB/s]"
      }
     },
     "32629fa9ea30410f9b8c1cbb212bf2ca": {
      "model_module": "@jupyter-widgets/controls",
      "model_module_version": "2.0.0",
      "model_name": "ProgressStyleModel",
      "state": {
       "_model_module": "@jupyter-widgets/controls",
       "_model_module_version": "2.0.0",
       "_model_name": "ProgressStyleModel",
       "_view_count": null,
       "_view_module": "@jupyter-widgets/base",
       "_view_module_version": "2.0.0",
       "_view_name": "StyleView",
       "bar_color": null,
       "description_width": ""
      }
     },
     "361535cc22ca49418c9f82ddb4a946be": {
      "model_module": "@jupyter-widgets/controls",
      "model_module_version": "2.0.0",
      "model_name": "HTMLModel",
      "state": {
       "_dom_classes": [],
       "_model_module": "@jupyter-widgets/controls",
       "_model_module_version": "2.0.0",
       "_model_name": "HTMLModel",
       "_view_count": null,
       "_view_module": "@jupyter-widgets/controls",
       "_view_module_version": "2.0.0",
       "_view_name": "HTMLView",
       "description": "",
       "description_allow_html": false,
       "layout": "IPY_MODEL_dff65f82f15a4e93a4ed9a18f8803bf9",
       "placeholder": "​",
       "style": "IPY_MODEL_cd2421c2a1254d67b1d84c3474437aaa",
       "tabbable": null,
       "tooltip": null,
       "value": "config.json: 100%"
      }
     },
     "3a7a55d227b94b5897b7645ec64aa145": {
      "model_module": "@jupyter-widgets/controls",
      "model_module_version": "2.0.0",
      "model_name": "HBoxModel",
      "state": {
       "_dom_classes": [],
       "_model_module": "@jupyter-widgets/controls",
       "_model_module_version": "2.0.0",
       "_model_name": "HBoxModel",
       "_view_count": null,
       "_view_module": "@jupyter-widgets/controls",
       "_view_module_version": "2.0.0",
       "_view_name": "HBoxView",
       "box_style": "",
       "children": [
        "IPY_MODEL_72f0c2a569084a7ca71fb0b9f311b78a",
        "IPY_MODEL_c11ba97c873849dcad2c4a913aad2191",
        "IPY_MODEL_322d9bb1ecc64486bb589569e6df588f"
       ],
       "layout": "IPY_MODEL_185b2078bee14d829cd6fb1b456bc593",
       "tabbable": null,
       "tooltip": null
      }
     },
     "3d8fde5dc5384eb2839a19cc57c2bf05": {
      "model_module": "@jupyter-widgets/base",
      "model_module_version": "2.0.0",
      "model_name": "LayoutModel",
      "state": {
       "_model_module": "@jupyter-widgets/base",
       "_model_module_version": "2.0.0",
       "_model_name": "LayoutModel",
       "_view_count": null,
       "_view_module": "@jupyter-widgets/base",
       "_view_module_version": "2.0.0",
       "_view_name": "LayoutView",
       "align_content": null,
       "align_items": null,
       "align_self": null,
       "border_bottom": null,
       "border_left": null,
       "border_right": null,
       "border_top": null,
       "bottom": null,
       "display": null,
       "flex": null,
       "flex_flow": null,
       "grid_area": null,
       "grid_auto_columns": null,
       "grid_auto_flow": null,
       "grid_auto_rows": null,
       "grid_column": null,
       "grid_gap": null,
       "grid_row": null,
       "grid_template_areas": null,
       "grid_template_columns": null,
       "grid_template_rows": null,
       "height": null,
       "justify_content": null,
       "justify_items": null,
       "left": null,
       "margin": null,
       "max_height": null,
       "max_width": null,
       "min_height": null,
       "min_width": null,
       "object_fit": null,
       "object_position": null,
       "order": null,
       "overflow": null,
       "padding": null,
       "right": null,
       "top": null,
       "visibility": null,
       "width": null
      }
     },
     "3f6b0d8042ec435595bb8eacedce1580": {
      "model_module": "@jupyter-widgets/controls",
      "model_module_version": "2.0.0",
      "model_name": "FloatProgressModel",
      "state": {
       "_dom_classes": [],
       "_model_module": "@jupyter-widgets/controls",
       "_model_module_version": "2.0.0",
       "_model_name": "FloatProgressModel",
       "_view_count": null,
       "_view_module": "@jupyter-widgets/controls",
       "_view_module_version": "2.0.0",
       "_view_name": "ProgressView",
       "bar_style": "success",
       "description": "",
       "description_allow_html": false,
       "layout": "IPY_MODEL_15fb95b3616f41acb97468df1c12348e",
       "max": 48.0,
       "min": 0.0,
       "orientation": "horizontal",
       "style": "IPY_MODEL_a532737f8c5e4a388c2661a410413564",
       "tabbable": null,
       "tooltip": null,
       "value": 48.0
      }
     },
     "5148650aab5e4a25b156011a99b2ac55": {
      "model_module": "@jupyter-widgets/controls",
      "model_module_version": "2.0.0",
      "model_name": "HTMLStyleModel",
      "state": {
       "_model_module": "@jupyter-widgets/controls",
       "_model_module_version": "2.0.0",
       "_model_name": "HTMLStyleModel",
       "_view_count": null,
       "_view_module": "@jupyter-widgets/base",
       "_view_module_version": "2.0.0",
       "_view_name": "StyleView",
       "background": null,
       "description_width": "",
       "font_size": null,
       "text_color": null
      }
     },
     "6401a2012a07460da777a0d43da8a215": {
      "model_module": "@jupyter-widgets/base",
      "model_module_version": "2.0.0",
      "model_name": "LayoutModel",
      "state": {
       "_model_module": "@jupyter-widgets/base",
       "_model_module_version": "2.0.0",
       "_model_name": "LayoutModel",
       "_view_count": null,
       "_view_module": "@jupyter-widgets/base",
       "_view_module_version": "2.0.0",
       "_view_name": "LayoutView",
       "align_content": null,
       "align_items": null,
       "align_self": null,
       "border_bottom": null,
       "border_left": null,
       "border_right": null,
       "border_top": null,
       "bottom": null,
       "display": null,
       "flex": null,
       "flex_flow": null,
       "grid_area": null,
       "grid_auto_columns": null,
       "grid_auto_flow": null,
       "grid_auto_rows": null,
       "grid_column": null,
       "grid_gap": null,
       "grid_row": null,
       "grid_template_areas": null,
       "grid_template_columns": null,
       "grid_template_rows": null,
       "height": null,
       "justify_content": null,
       "justify_items": null,
       "left": null,
       "margin": null,
       "max_height": null,
       "max_width": null,
       "min_height": null,
       "min_width": null,
       "object_fit": null,
       "object_position": null,
       "order": null,
       "overflow": null,
       "padding": null,
       "right": null,
       "top": null,
       "visibility": null,
       "width": null
      }
     },
     "71fa8569297d451e880de96892684e9a": {
      "model_module": "@jupyter-widgets/controls",
      "model_module_version": "2.0.0",
      "model_name": "HTMLStyleModel",
      "state": {
       "_model_module": "@jupyter-widgets/controls",
       "_model_module_version": "2.0.0",
       "_model_name": "HTMLStyleModel",
       "_view_count": null,
       "_view_module": "@jupyter-widgets/base",
       "_view_module_version": "2.0.0",
       "_view_name": "StyleView",
       "background": null,
       "description_width": "",
       "font_size": null,
       "text_color": null
      }
     },
     "72f0c2a569084a7ca71fb0b9f311b78a": {
      "model_module": "@jupyter-widgets/controls",
      "model_module_version": "2.0.0",
      "model_name": "HTMLModel",
      "state": {
       "_dom_classes": [],
       "_model_module": "@jupyter-widgets/controls",
       "_model_module_version": "2.0.0",
       "_model_name": "HTMLModel",
       "_view_count": null,
       "_view_module": "@jupyter-widgets/controls",
       "_view_module_version": "2.0.0",
       "_view_name": "HTMLView",
       "description": "",
       "description_allow_html": false,
       "layout": "IPY_MODEL_f9814d308ec44250800c45a264be2563",
       "placeholder": "​",
       "style": "IPY_MODEL_8ce5a53897234ecba21a54aec79e5039",
       "tabbable": null,
       "tooltip": null,
       "value": "vocab.txt: 100%"
      }
     },
     "7f5ba8203d6443a2b7635957931816f3": {
      "model_module": "@jupyter-widgets/controls",
      "model_module_version": "2.0.0",
      "model_name": "HTMLModel",
      "state": {
       "_dom_classes": [],
       "_model_module": "@jupyter-widgets/controls",
       "_model_module_version": "2.0.0",
       "_model_name": "HTMLModel",
       "_view_count": null,
       "_view_module": "@jupyter-widgets/controls",
       "_view_module_version": "2.0.0",
       "_view_name": "HTMLView",
       "description": "",
       "description_allow_html": false,
       "layout": "IPY_MODEL_101e454003c842ae9db304b12948b3b5",
       "placeholder": "​",
       "style": "IPY_MODEL_d9fab60c53584d4390dafb1e4d41c7ba",
       "tabbable": null,
       "tooltip": null,
       "value": " 483/483 [00:00&lt;00:00, 59.6kB/s]"
      }
     },
     "8869d6676aed4beb8127025c344743ee": {
      "model_module": "@jupyter-widgets/base",
      "model_module_version": "2.0.0",
      "model_name": "LayoutModel",
      "state": {
       "_model_module": "@jupyter-widgets/base",
       "_model_module_version": "2.0.0",
       "_model_name": "LayoutModel",
       "_view_count": null,
       "_view_module": "@jupyter-widgets/base",
       "_view_module_version": "2.0.0",
       "_view_name": "LayoutView",
       "align_content": null,
       "align_items": null,
       "align_self": null,
       "border_bottom": null,
       "border_left": null,
       "border_right": null,
       "border_top": null,
       "bottom": null,
       "display": null,
       "flex": null,
       "flex_flow": null,
       "grid_area": null,
       "grid_auto_columns": null,
       "grid_auto_flow": null,
       "grid_auto_rows": null,
       "grid_column": null,
       "grid_gap": null,
       "grid_row": null,
       "grid_template_areas": null,
       "grid_template_columns": null,
       "grid_template_rows": null,
       "height": null,
       "justify_content": null,
       "justify_items": null,
       "left": null,
       "margin": null,
       "max_height": null,
       "max_width": null,
       "min_height": null,
       "min_width": null,
       "object_fit": null,
       "object_position": null,
       "order": null,
       "overflow": null,
       "padding": null,
       "right": null,
       "top": null,
       "visibility": null,
       "width": null
      }
     },
     "8bd3bba2b691419bb78c1a983b05aded": {
      "model_module": "@jupyter-widgets/base",
      "model_module_version": "2.0.0",
      "model_name": "LayoutModel",
      "state": {
       "_model_module": "@jupyter-widgets/base",
       "_model_module_version": "2.0.0",
       "_model_name": "LayoutModel",
       "_view_count": null,
       "_view_module": "@jupyter-widgets/base",
       "_view_module_version": "2.0.0",
       "_view_name": "LayoutView",
       "align_content": null,
       "align_items": null,
       "align_self": null,
       "border_bottom": null,
       "border_left": null,
       "border_right": null,
       "border_top": null,
       "bottom": null,
       "display": null,
       "flex": null,
       "flex_flow": null,
       "grid_area": null,
       "grid_auto_columns": null,
       "grid_auto_flow": null,
       "grid_auto_rows": null,
       "grid_column": null,
       "grid_gap": null,
       "grid_row": null,
       "grid_template_areas": null,
       "grid_template_columns": null,
       "grid_template_rows": null,
       "height": null,
       "justify_content": null,
       "justify_items": null,
       "left": null,
       "margin": null,
       "max_height": null,
       "max_width": null,
       "min_height": null,
       "min_width": null,
       "object_fit": null,
       "object_position": null,
       "order": null,
       "overflow": null,
       "padding": null,
       "right": null,
       "top": null,
       "visibility": null,
       "width": null
      }
     },
     "8ce5a53897234ecba21a54aec79e5039": {
      "model_module": "@jupyter-widgets/controls",
      "model_module_version": "2.0.0",
      "model_name": "HTMLStyleModel",
      "state": {
       "_model_module": "@jupyter-widgets/controls",
       "_model_module_version": "2.0.0",
       "_model_name": "HTMLStyleModel",
       "_view_count": null,
       "_view_module": "@jupyter-widgets/base",
       "_view_module_version": "2.0.0",
       "_view_name": "StyleView",
       "background": null,
       "description_width": "",
       "font_size": null,
       "text_color": null
      }
     },
     "8d71dc6c0f864984b898018addb68963": {
      "model_module": "@jupyter-widgets/controls",
      "model_module_version": "2.0.0",
      "model_name": "HBoxModel",
      "state": {
       "_dom_classes": [],
       "_model_module": "@jupyter-widgets/controls",
       "_model_module_version": "2.0.0",
       "_model_name": "HBoxModel",
       "_view_count": null,
       "_view_module": "@jupyter-widgets/controls",
       "_view_module_version": "2.0.0",
       "_view_name": "HBoxView",
       "box_style": "",
       "children": [
        "IPY_MODEL_361535cc22ca49418c9f82ddb4a946be",
        "IPY_MODEL_d812c779e49749de88865e4d25e4f530",
        "IPY_MODEL_7f5ba8203d6443a2b7635957931816f3"
       ],
       "layout": "IPY_MODEL_c522b1e0397e4a4cbe1d3e93300f4fe6",
       "tabbable": null,
       "tooltip": null
      }
     },
     "9150a8748e6d4898a04d40768456ea91": {
      "model_module": "@jupyter-widgets/controls",
      "model_module_version": "2.0.0",
      "model_name": "HBoxModel",
      "state": {
       "_dom_classes": [],
       "_model_module": "@jupyter-widgets/controls",
       "_model_module_version": "2.0.0",
       "_model_name": "HBoxModel",
       "_view_count": null,
       "_view_module": "@jupyter-widgets/controls",
       "_view_module_version": "2.0.0",
       "_view_name": "HBoxView",
       "box_style": "",
       "children": [
        "IPY_MODEL_11ce4ca2f1704932a1f33882be5a8caa",
        "IPY_MODEL_3f6b0d8042ec435595bb8eacedce1580",
        "IPY_MODEL_b3da7e0c142743ff8805992f92d9e2d3"
       ],
       "layout": "IPY_MODEL_d72755ed880049f9a9545336d5e3f3f3",
       "tabbable": null,
       "tooltip": null
      }
     },
     "95c656587cc848e8b680f4059c3a0c20": {
      "model_module": "@jupyter-widgets/base",
      "model_module_version": "2.0.0",
      "model_name": "LayoutModel",
      "state": {
       "_model_module": "@jupyter-widgets/base",
       "_model_module_version": "2.0.0",
       "_model_name": "LayoutModel",
       "_view_count": null,
       "_view_module": "@jupyter-widgets/base",
       "_view_module_version": "2.0.0",
       "_view_name": "LayoutView",
       "align_content": null,
       "align_items": null,
       "align_self": null,
       "border_bottom": null,
       "border_left": null,
       "border_right": null,
       "border_top": null,
       "bottom": null,
       "display": null,
       "flex": null,
       "flex_flow": null,
       "grid_area": null,
       "grid_auto_columns": null,
       "grid_auto_flow": null,
       "grid_auto_rows": null,
       "grid_column": null,
       "grid_gap": null,
       "grid_row": null,
       "grid_template_areas": null,
       "grid_template_columns": null,
       "grid_template_rows": null,
       "height": null,
       "justify_content": null,
       "justify_items": null,
       "left": null,
       "margin": null,
       "max_height": null,
       "max_width": null,
       "min_height": null,
       "min_width": null,
       "object_fit": null,
       "object_position": null,
       "order": null,
       "overflow": null,
       "padding": null,
       "right": null,
       "top": null,
       "visibility": null,
       "width": null
      }
     },
     "993567332fb24bd0aedc9eb0b23c283f": {
      "model_module": "@jupyter-widgets/controls",
      "model_module_version": "2.0.0",
      "model_name": "HTMLModel",
      "state": {
       "_dom_classes": [],
       "_model_module": "@jupyter-widgets/controls",
       "_model_module_version": "2.0.0",
       "_model_name": "HTMLModel",
       "_view_count": null,
       "_view_module": "@jupyter-widgets/controls",
       "_view_module_version": "2.0.0",
       "_view_name": "HTMLView",
       "description": "",
       "description_allow_html": false,
       "layout": "IPY_MODEL_ca607cab1d4e45f0a908304bff66903d",
       "placeholder": "​",
       "style": "IPY_MODEL_23a0ba5bc0724cd18b557bbc2bf9f659",
       "tabbable": null,
       "tooltip": null,
       "value": "model.safetensors: 100%"
      }
     },
     "9c7682752bcf4472a3b73fa489b5a734": {
      "model_module": "@jupyter-widgets/controls",
      "model_module_version": "2.0.0",
      "model_name": "HTMLModel",
      "state": {
       "_dom_classes": [],
       "_model_module": "@jupyter-widgets/controls",
       "_model_module_version": "2.0.0",
       "_model_name": "HTMLModel",
       "_view_count": null,
       "_view_module": "@jupyter-widgets/controls",
       "_view_module_version": "2.0.0",
       "_view_name": "HTMLView",
       "description": "",
       "description_allow_html": false,
       "layout": "IPY_MODEL_95c656587cc848e8b680f4059c3a0c20",
       "placeholder": "​",
       "style": "IPY_MODEL_1e0d6e4eb87f43a89c4f72a9b36485fe",
       "tabbable": null,
       "tooltip": null,
       "value": " 268M/268M [00:02&lt;00:00, 159MB/s]"
      }
     },
     "a532737f8c5e4a388c2661a410413564": {
      "model_module": "@jupyter-widgets/controls",
      "model_module_version": "2.0.0",
      "model_name": "ProgressStyleModel",
      "state": {
       "_model_module": "@jupyter-widgets/controls",
       "_model_module_version": "2.0.0",
       "_model_name": "ProgressStyleModel",
       "_view_count": null,
       "_view_module": "@jupyter-widgets/base",
       "_view_module_version": "2.0.0",
       "_view_name": "StyleView",
       "bar_color": null,
       "description_width": ""
      }
     },
     "b3da7e0c142743ff8805992f92d9e2d3": {
      "model_module": "@jupyter-widgets/controls",
      "model_module_version": "2.0.0",
      "model_name": "HTMLModel",
      "state": {
       "_dom_classes": [],
       "_model_module": "@jupyter-widgets/controls",
       "_model_module_version": "2.0.0",
       "_model_name": "HTMLModel",
       "_view_count": null,
       "_view_module": "@jupyter-widgets/controls",
       "_view_module_version": "2.0.0",
       "_view_name": "HTMLView",
       "description": "",
       "description_allow_html": false,
       "layout": "IPY_MODEL_c47fb6b9c7e944d793ff4b6a647eea13",
       "placeholder": "​",
       "style": "IPY_MODEL_cd3d771cf0a243fd9af329924e0fd706",
       "tabbable": null,
       "tooltip": null,
       "value": " 48.0/48.0 [00:00&lt;00:00, 6.30kB/s]"
      }
     },
     "b9beae9187e344ae89a4713a90364a7c": {
      "model_module": "@jupyter-widgets/controls",
      "model_module_version": "2.0.0",
      "model_name": "HBoxModel",
      "state": {
       "_dom_classes": [],
       "_model_module": "@jupyter-widgets/controls",
       "_model_module_version": "2.0.0",
       "_model_name": "HBoxModel",
       "_view_count": null,
       "_view_module": "@jupyter-widgets/controls",
       "_view_module_version": "2.0.0",
       "_view_name": "HBoxView",
       "box_style": "",
       "children": [
        "IPY_MODEL_993567332fb24bd0aedc9eb0b23c283f",
        "IPY_MODEL_0f787991e64e4f82a77f1e4b3ce5b015",
        "IPY_MODEL_9c7682752bcf4472a3b73fa489b5a734"
       ],
       "layout": "IPY_MODEL_ed4c4c7a889444f4a534fc829660cfce",
       "tabbable": null,
       "tooltip": null
      }
     },
     "c0d09f09ae864d218621087a2131305c": {
      "model_module": "@jupyter-widgets/controls",
      "model_module_version": "2.0.0",
      "model_name": "HTMLStyleModel",
      "state": {
       "_model_module": "@jupyter-widgets/controls",
       "_model_module_version": "2.0.0",
       "_model_name": "HTMLStyleModel",
       "_view_count": null,
       "_view_module": "@jupyter-widgets/base",
       "_view_module_version": "2.0.0",
       "_view_name": "StyleView",
       "background": null,
       "description_width": "",
       "font_size": null,
       "text_color": null
      }
     },
     "c11ba97c873849dcad2c4a913aad2191": {
      "model_module": "@jupyter-widgets/controls",
      "model_module_version": "2.0.0",
      "model_name": "FloatProgressModel",
      "state": {
       "_dom_classes": [],
       "_model_module": "@jupyter-widgets/controls",
       "_model_module_version": "2.0.0",
       "_model_name": "FloatProgressModel",
       "_view_count": null,
       "_view_module": "@jupyter-widgets/controls",
       "_view_module_version": "2.0.0",
       "_view_name": "ProgressView",
       "bar_style": "success",
       "description": "",
       "description_allow_html": false,
       "layout": "IPY_MODEL_6401a2012a07460da777a0d43da8a215",
       "max": 231508.0,
       "min": 0.0,
       "orientation": "horizontal",
       "style": "IPY_MODEL_10071cff3e974c72aef02186d2ca2224",
       "tabbable": null,
       "tooltip": null,
       "value": 231508.0
      }
     },
     "c47fb6b9c7e944d793ff4b6a647eea13": {
      "model_module": "@jupyter-widgets/base",
      "model_module_version": "2.0.0",
      "model_name": "LayoutModel",
      "state": {
       "_model_module": "@jupyter-widgets/base",
       "_model_module_version": "2.0.0",
       "_model_name": "LayoutModel",
       "_view_count": null,
       "_view_module": "@jupyter-widgets/base",
       "_view_module_version": "2.0.0",
       "_view_name": "LayoutView",
       "align_content": null,
       "align_items": null,
       "align_self": null,
       "border_bottom": null,
       "border_left": null,
       "border_right": null,
       "border_top": null,
       "bottom": null,
       "display": null,
       "flex": null,
       "flex_flow": null,
       "grid_area": null,
       "grid_auto_columns": null,
       "grid_auto_flow": null,
       "grid_auto_rows": null,
       "grid_column": null,
       "grid_gap": null,
       "grid_row": null,
       "grid_template_areas": null,
       "grid_template_columns": null,
       "grid_template_rows": null,
       "height": null,
       "justify_content": null,
       "justify_items": null,
       "left": null,
       "margin": null,
       "max_height": null,
       "max_width": null,
       "min_height": null,
       "min_width": null,
       "object_fit": null,
       "object_position": null,
       "order": null,
       "overflow": null,
       "padding": null,
       "right": null,
       "top": null,
       "visibility": null,
       "width": null
      }
     },
     "c522b1e0397e4a4cbe1d3e93300f4fe6": {
      "model_module": "@jupyter-widgets/base",
      "model_module_version": "2.0.0",
      "model_name": "LayoutModel",
      "state": {
       "_model_module": "@jupyter-widgets/base",
       "_model_module_version": "2.0.0",
       "_model_name": "LayoutModel",
       "_view_count": null,
       "_view_module": "@jupyter-widgets/base",
       "_view_module_version": "2.0.0",
       "_view_name": "LayoutView",
       "align_content": null,
       "align_items": null,
       "align_self": null,
       "border_bottom": null,
       "border_left": null,
       "border_right": null,
       "border_top": null,
       "bottom": null,
       "display": null,
       "flex": null,
       "flex_flow": null,
       "grid_area": null,
       "grid_auto_columns": null,
       "grid_auto_flow": null,
       "grid_auto_rows": null,
       "grid_column": null,
       "grid_gap": null,
       "grid_row": null,
       "grid_template_areas": null,
       "grid_template_columns": null,
       "grid_template_rows": null,
       "height": null,
       "justify_content": null,
       "justify_items": null,
       "left": null,
       "margin": null,
       "max_height": null,
       "max_width": null,
       "min_height": null,
       "min_width": null,
       "object_fit": null,
       "object_position": null,
       "order": null,
       "overflow": null,
       "padding": null,
       "right": null,
       "top": null,
       "visibility": null,
       "width": null
      }
     },
     "ca607cab1d4e45f0a908304bff66903d": {
      "model_module": "@jupyter-widgets/base",
      "model_module_version": "2.0.0",
      "model_name": "LayoutModel",
      "state": {
       "_model_module": "@jupyter-widgets/base",
       "_model_module_version": "2.0.0",
       "_model_name": "LayoutModel",
       "_view_count": null,
       "_view_module": "@jupyter-widgets/base",
       "_view_module_version": "2.0.0",
       "_view_name": "LayoutView",
       "align_content": null,
       "align_items": null,
       "align_self": null,
       "border_bottom": null,
       "border_left": null,
       "border_right": null,
       "border_top": null,
       "bottom": null,
       "display": null,
       "flex": null,
       "flex_flow": null,
       "grid_area": null,
       "grid_auto_columns": null,
       "grid_auto_flow": null,
       "grid_auto_rows": null,
       "grid_column": null,
       "grid_gap": null,
       "grid_row": null,
       "grid_template_areas": null,
       "grid_template_columns": null,
       "grid_template_rows": null,
       "height": null,
       "justify_content": null,
       "justify_items": null,
       "left": null,
       "margin": null,
       "max_height": null,
       "max_width": null,
       "min_height": null,
       "min_width": null,
       "object_fit": null,
       "object_position": null,
       "order": null,
       "overflow": null,
       "padding": null,
       "right": null,
       "top": null,
       "visibility": null,
       "width": null
      }
     },
     "cd2421c2a1254d67b1d84c3474437aaa": {
      "model_module": "@jupyter-widgets/controls",
      "model_module_version": "2.0.0",
      "model_name": "HTMLStyleModel",
      "state": {
       "_model_module": "@jupyter-widgets/controls",
       "_model_module_version": "2.0.0",
       "_model_name": "HTMLStyleModel",
       "_view_count": null,
       "_view_module": "@jupyter-widgets/base",
       "_view_module_version": "2.0.0",
       "_view_name": "StyleView",
       "background": null,
       "description_width": "",
       "font_size": null,
       "text_color": null
      }
     },
     "cd3d771cf0a243fd9af329924e0fd706": {
      "model_module": "@jupyter-widgets/controls",
      "model_module_version": "2.0.0",
      "model_name": "HTMLStyleModel",
      "state": {
       "_model_module": "@jupyter-widgets/controls",
       "_model_module_version": "2.0.0",
       "_model_name": "HTMLStyleModel",
       "_view_count": null,
       "_view_module": "@jupyter-widgets/base",
       "_view_module_version": "2.0.0",
       "_view_name": "StyleView",
       "background": null,
       "description_width": "",
       "font_size": null,
       "text_color": null
      }
     },
     "cfaa2071ac79477f939819089ee60ddc": {
      "model_module": "@jupyter-widgets/controls",
      "model_module_version": "2.0.0",
      "model_name": "ProgressStyleModel",
      "state": {
       "_model_module": "@jupyter-widgets/controls",
       "_model_module_version": "2.0.0",
       "_model_name": "ProgressStyleModel",
       "_view_count": null,
       "_view_module": "@jupyter-widgets/base",
       "_view_module_version": "2.0.0",
       "_view_name": "StyleView",
       "bar_color": null,
       "description_width": ""
      }
     },
     "d72755ed880049f9a9545336d5e3f3f3": {
      "model_module": "@jupyter-widgets/base",
      "model_module_version": "2.0.0",
      "model_name": "LayoutModel",
      "state": {
       "_model_module": "@jupyter-widgets/base",
       "_model_module_version": "2.0.0",
       "_model_name": "LayoutModel",
       "_view_count": null,
       "_view_module": "@jupyter-widgets/base",
       "_view_module_version": "2.0.0",
       "_view_name": "LayoutView",
       "align_content": null,
       "align_items": null,
       "align_self": null,
       "border_bottom": null,
       "border_left": null,
       "border_right": null,
       "border_top": null,
       "bottom": null,
       "display": null,
       "flex": null,
       "flex_flow": null,
       "grid_area": null,
       "grid_auto_columns": null,
       "grid_auto_flow": null,
       "grid_auto_rows": null,
       "grid_column": null,
       "grid_gap": null,
       "grid_row": null,
       "grid_template_areas": null,
       "grid_template_columns": null,
       "grid_template_rows": null,
       "height": null,
       "justify_content": null,
       "justify_items": null,
       "left": null,
       "margin": null,
       "max_height": null,
       "max_width": null,
       "min_height": null,
       "min_width": null,
       "object_fit": null,
       "object_position": null,
       "order": null,
       "overflow": null,
       "padding": null,
       "right": null,
       "top": null,
       "visibility": null,
       "width": null
      }
     },
     "d812c779e49749de88865e4d25e4f530": {
      "model_module": "@jupyter-widgets/controls",
      "model_module_version": "2.0.0",
      "model_name": "FloatProgressModel",
      "state": {
       "_dom_classes": [],
       "_model_module": "@jupyter-widgets/controls",
       "_model_module_version": "2.0.0",
       "_model_name": "FloatProgressModel",
       "_view_count": null,
       "_view_module": "@jupyter-widgets/controls",
       "_view_module_version": "2.0.0",
       "_view_name": "ProgressView",
       "bar_style": "success",
       "description": "",
       "description_allow_html": false,
       "layout": "IPY_MODEL_0ef2ddd4c6084bc4a83613d37719142c",
       "max": 483.0,
       "min": 0.0,
       "orientation": "horizontal",
       "style": "IPY_MODEL_cfaa2071ac79477f939819089ee60ddc",
       "tabbable": null,
       "tooltip": null,
       "value": 483.0
      }
     },
     "d92bb95720f74d29a57b42f609742865": {
      "model_module": "@jupyter-widgets/base",
      "model_module_version": "2.0.0",
      "model_name": "LayoutModel",
      "state": {
       "_model_module": "@jupyter-widgets/base",
       "_model_module_version": "2.0.0",
       "_model_name": "LayoutModel",
       "_view_count": null,
       "_view_module": "@jupyter-widgets/base",
       "_view_module_version": "2.0.0",
       "_view_name": "LayoutView",
       "align_content": null,
       "align_items": null,
       "align_self": null,
       "border_bottom": null,
       "border_left": null,
       "border_right": null,
       "border_top": null,
       "bottom": null,
       "display": null,
       "flex": null,
       "flex_flow": null,
       "grid_area": null,
       "grid_auto_columns": null,
       "grid_auto_flow": null,
       "grid_auto_rows": null,
       "grid_column": null,
       "grid_gap": null,
       "grid_row": null,
       "grid_template_areas": null,
       "grid_template_columns": null,
       "grid_template_rows": null,
       "height": null,
       "justify_content": null,
       "justify_items": null,
       "left": null,
       "margin": null,
       "max_height": null,
       "max_width": null,
       "min_height": null,
       "min_width": null,
       "object_fit": null,
       "object_position": null,
       "order": null,
       "overflow": null,
       "padding": null,
       "right": null,
       "top": null,
       "visibility": null,
       "width": null
      }
     },
     "d9fab60c53584d4390dafb1e4d41c7ba": {
      "model_module": "@jupyter-widgets/controls",
      "model_module_version": "2.0.0",
      "model_name": "HTMLStyleModel",
      "state": {
       "_model_module": "@jupyter-widgets/controls",
       "_model_module_version": "2.0.0",
       "_model_name": "HTMLStyleModel",
       "_view_count": null,
       "_view_module": "@jupyter-widgets/base",
       "_view_module_version": "2.0.0",
       "_view_name": "StyleView",
       "background": null,
       "description_width": "",
       "font_size": null,
       "text_color": null
      }
     },
     "dff65f82f15a4e93a4ed9a18f8803bf9": {
      "model_module": "@jupyter-widgets/base",
      "model_module_version": "2.0.0",
      "model_name": "LayoutModel",
      "state": {
       "_model_module": "@jupyter-widgets/base",
       "_model_module_version": "2.0.0",
       "_model_name": "LayoutModel",
       "_view_count": null,
       "_view_module": "@jupyter-widgets/base",
       "_view_module_version": "2.0.0",
       "_view_name": "LayoutView",
       "align_content": null,
       "align_items": null,
       "align_self": null,
       "border_bottom": null,
       "border_left": null,
       "border_right": null,
       "border_top": null,
       "bottom": null,
       "display": null,
       "flex": null,
       "flex_flow": null,
       "grid_area": null,
       "grid_auto_columns": null,
       "grid_auto_flow": null,
       "grid_auto_rows": null,
       "grid_column": null,
       "grid_gap": null,
       "grid_row": null,
       "grid_template_areas": null,
       "grid_template_columns": null,
       "grid_template_rows": null,
       "height": null,
       "justify_content": null,
       "justify_items": null,
       "left": null,
       "margin": null,
       "max_height": null,
       "max_width": null,
       "min_height": null,
       "min_width": null,
       "object_fit": null,
       "object_position": null,
       "order": null,
       "overflow": null,
       "padding": null,
       "right": null,
       "top": null,
       "visibility": null,
       "width": null
      }
     },
     "e09c11ea9016411fa8460d8941893090": {
      "model_module": "@jupyter-widgets/controls",
      "model_module_version": "2.0.0",
      "model_name": "HTMLModel",
      "state": {
       "_dom_classes": [],
       "_model_module": "@jupyter-widgets/controls",
       "_model_module_version": "2.0.0",
       "_model_name": "HTMLModel",
       "_view_count": null,
       "_view_module": "@jupyter-widgets/controls",
       "_view_module_version": "2.0.0",
       "_view_name": "HTMLView",
       "description": "",
       "description_allow_html": false,
       "layout": "IPY_MODEL_0fd7e35ea6884f629d03b1da178f1b1f",
       "placeholder": "​",
       "style": "IPY_MODEL_c0d09f09ae864d218621087a2131305c",
       "tabbable": null,
       "tooltip": null,
       "value": " 466k/466k [00:00&lt;00:00, 2.83MB/s]"
      }
     },
     "ed4c4c7a889444f4a534fc829660cfce": {
      "model_module": "@jupyter-widgets/base",
      "model_module_version": "2.0.0",
      "model_name": "LayoutModel",
      "state": {
       "_model_module": "@jupyter-widgets/base",
       "_model_module_version": "2.0.0",
       "_model_name": "LayoutModel",
       "_view_count": null,
       "_view_module": "@jupyter-widgets/base",
       "_view_module_version": "2.0.0",
       "_view_name": "LayoutView",
       "align_content": null,
       "align_items": null,
       "align_self": null,
       "border_bottom": null,
       "border_left": null,
       "border_right": null,
       "border_top": null,
       "bottom": null,
       "display": null,
       "flex": null,
       "flex_flow": null,
       "grid_area": null,
       "grid_auto_columns": null,
       "grid_auto_flow": null,
       "grid_auto_rows": null,
       "grid_column": null,
       "grid_gap": null,
       "grid_row": null,
       "grid_template_areas": null,
       "grid_template_columns": null,
       "grid_template_rows": null,
       "height": null,
       "justify_content": null,
       "justify_items": null,
       "left": null,
       "margin": null,
       "max_height": null,
       "max_width": null,
       "min_height": null,
       "min_width": null,
       "object_fit": null,
       "object_position": null,
       "order": null,
       "overflow": null,
       "padding": null,
       "right": null,
       "top": null,
       "visibility": null,
       "width": null
      }
     },
     "eef8f4117e6849e4bb007b8eac38d596": {
      "model_module": "@jupyter-widgets/base",
      "model_module_version": "2.0.0",
      "model_name": "LayoutModel",
      "state": {
       "_model_module": "@jupyter-widgets/base",
       "_model_module_version": "2.0.0",
       "_model_name": "LayoutModel",
       "_view_count": null,
       "_view_module": "@jupyter-widgets/base",
       "_view_module_version": "2.0.0",
       "_view_name": "LayoutView",
       "align_content": null,
       "align_items": null,
       "align_self": null,
       "border_bottom": null,
       "border_left": null,
       "border_right": null,
       "border_top": null,
       "bottom": null,
       "display": null,
       "flex": null,
       "flex_flow": null,
       "grid_area": null,
       "grid_auto_columns": null,
       "grid_auto_flow": null,
       "grid_auto_rows": null,
       "grid_column": null,
       "grid_gap": null,
       "grid_row": null,
       "grid_template_areas": null,
       "grid_template_columns": null,
       "grid_template_rows": null,
       "height": null,
       "justify_content": null,
       "justify_items": null,
       "left": null,
       "margin": null,
       "max_height": null,
       "max_width": null,
       "min_height": null,
       "min_width": null,
       "object_fit": null,
       "object_position": null,
       "order": null,
       "overflow": null,
       "padding": null,
       "right": null,
       "top": null,
       "visibility": null,
       "width": null
      }
     },
     "f1b96241093541abac476cc1680fb375": {
      "model_module": "@jupyter-widgets/controls",
      "model_module_version": "2.0.0",
      "model_name": "HBoxModel",
      "state": {
       "_dom_classes": [],
       "_model_module": "@jupyter-widgets/controls",
       "_model_module_version": "2.0.0",
       "_model_name": "HBoxModel",
       "_view_count": null,
       "_view_module": "@jupyter-widgets/controls",
       "_view_module_version": "2.0.0",
       "_view_name": "HBoxView",
       "box_style": "",
       "children": [
        "IPY_MODEL_1caeab16623e4c1eba1ea817e0d71a95",
        "IPY_MODEL_06d0c7ab897b4a5db768c11a9a777f1d",
        "IPY_MODEL_e09c11ea9016411fa8460d8941893090"
       ],
       "layout": "IPY_MODEL_8bd3bba2b691419bb78c1a983b05aded",
       "tabbable": null,
       "tooltip": null
      }
     },
     "f9814d308ec44250800c45a264be2563": {
      "model_module": "@jupyter-widgets/base",
      "model_module_version": "2.0.0",
      "model_name": "LayoutModel",
      "state": {
       "_model_module": "@jupyter-widgets/base",
       "_model_module_version": "2.0.0",
       "_model_name": "LayoutModel",
       "_view_count": null,
       "_view_module": "@jupyter-widgets/base",
       "_view_module_version": "2.0.0",
       "_view_name": "LayoutView",
       "align_content": null,
       "align_items": null,
       "align_self": null,
       "border_bottom": null,
       "border_left": null,
       "border_right": null,
       "border_top": null,
       "bottom": null,
       "display": null,
       "flex": null,
       "flex_flow": null,
       "grid_area": null,
       "grid_auto_columns": null,
       "grid_auto_flow": null,
       "grid_auto_rows": null,
       "grid_column": null,
       "grid_gap": null,
       "grid_row": null,
       "grid_template_areas": null,
       "grid_template_columns": null,
       "grid_template_rows": null,
       "height": null,
       "justify_content": null,
       "justify_items": null,
       "left": null,
       "margin": null,
       "max_height": null,
       "max_width": null,
       "min_height": null,
       "min_width": null,
       "object_fit": null,
       "object_position": null,
       "order": null,
       "overflow": null,
       "padding": null,
       "right": null,
       "top": null,
       "visibility": null,
       "width": null
      }
     },
     "fd4253304a424a86ae79ccf3c0a6cee0": {
      "model_module": "@jupyter-widgets/controls",
      "model_module_version": "2.0.0",
      "model_name": "HTMLStyleModel",
      "state": {
       "_model_module": "@jupyter-widgets/controls",
       "_model_module_version": "2.0.0",
       "_model_name": "HTMLStyleModel",
       "_view_count": null,
       "_view_module": "@jupyter-widgets/base",
       "_view_module_version": "2.0.0",
       "_view_name": "StyleView",
       "background": null,
       "description_width": "",
       "font_size": null,
       "text_color": null
      }
     }
    },
    "version_major": 2,
    "version_minor": 0
   }
  }
 },
 "nbformat": 4,
 "nbformat_minor": 5
}
